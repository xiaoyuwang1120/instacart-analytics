{
 "cells": [
  {
   "cell_type": "code",
   "execution_count": 12,
   "metadata": {},
   "outputs": [],
   "source": [
    "#load data\n",
    "import pandas as pd\n",
    "import numpy as np\n",
    "import matplotlib.pyplot as plt\n",
    "import time\n",
    "import matplotlib as mpl\n",
    "from sklearn import linear_model\n",
    "departments=pd.read_csv('/home/user_ds/qianpeng/data/data/departments.csv')\n",
    "aisles=pd.read_csv('/home/user_ds/qianpeng/data/data/aisles.csv')\n",
    "products=pd.read_csv('/home/user_ds/qianpeng/data/data/products.csv')\n",
    "sample_submission=pd.read_csv('/home/user_ds/qianpeng/data/data/sample_submission.csv')\n",
    "order_products_train=pd.read_csv('/home/user_ds/qianpeng/data/data/order_products__train.csv')\n",
    "order_products_prior=pd.read_csv('/home/user_ds/qianpeng/data/data/order_products__prior.csv')\n",
    "orders=pd.read_csv('/home/user_ds/qianpeng/data/data/orders.csv')\n",
    "orders_prior=orders[orders.eval_set=='prior']"
   ]
  },
  {
   "cell_type": "code",
   "execution_count": 13,
   "metadata": {},
   "outputs": [],
   "source": [
    "import random\n",
    "import numpy as np\n",
    "import xgboost\n",
    "from sklearn.model_selection import train_test_split\n",
    "from sklearn.metrics import f1_score,precision_score,recall_score,accuracy_score\n",
    "from sklearn.tree import DecisionTreeClassifier"
   ]
  },
  {
   "cell_type": "code",
   "execution_count": 14,
   "metadata": {},
   "outputs": [],
   "source": [
    "#group data together\n",
    "data1=pd.merge(order_products_prior,orders_prior,on='order_id',how='left')\n",
    "data2=pd.merge(data1,products,on='product_id',how='left')"
   ]
  },
  {
   "cell_type": "code",
   "execution_count": 15,
   "metadata": {},
   "outputs": [
    {
     "data": {
      "image/png": "[encoded data removed]",
      "text/plain": [
       "<Figure size 576x432 with 1 Axes>"
      ]
     },
     "metadata": {},
     "output_type": "display_data"
    }
   ],
   "source": [
    "# the number of orders for all users\n",
    "\n",
    "data_user_orders_num=orders.groupby('user_id')['order_id'].count()\n",
    "source_data = {}\n",
    "for i in range(10):\n",
    "    source_data[str(10*i)+'~'+str(10*(i+1))]=len([x for x in list(data_user_orders_num) if x>=i*10 and x<(i+1)*10])\n",
    "    \n",
    "\n",
    "    \n",
    "font_size=10\n",
    "fig_size=(8,6)    \n",
    "mpl.rcParams['font.size']=font_size\n",
    "mpl.rcParams['figure.figsize']=fig_size\n",
    "bar_width=0.3\n",
    "\n",
    " \n",
    "x_axis = tuple(source_data.keys())\n",
    "y_axis = tuple(source_data.values())\n",
    "#assign color\n",
    "plt.bar(x_axis, y_axis, color='rgb')  \n",
    "# descrpitions for x-axis, y-axis\n",
    "plt.xlabel('order_number')  \n",
    "plt.ylabel(\"user_number\") \n",
    "plt.title(\"order_histogram1\") \n",
    "plt.show()\n"
   ]
  },
  {
   "cell_type": "code",
   "execution_count": 16,
   "metadata": {},
   "outputs": [
    {
     "name": "stderr",
     "output_type": "stream",
     "text": [
      "/usr/local/anaconda3/lib/python3.6/site-packages/IPython/core/interactiveshell.py:2963: FutureWarning: 'order_id' is both an index level and a column label.\n",
      "Defaulting to column, but this will raise an ambiguity error in a future version\n",
      "  exec(code_obj, self.user_global_ns, self.user_ns)\n"
     ]
    }
   ],
   "source": [
    "#the average number of products in each order for all users\n",
    "data_user_products_num1=order_products_prior.groupby('order_id')['product_id'].count()\n",
    "data_user_products_num1=pd.DataFrame(data_user_products_num1)\n",
    "data_user_products_num1['order_id']=list(data_user_products_num1.index)\n",
    "data_user_products_num1.columns=['product_num','order_id']\n",
    "data_user_products_num2=pd.merge(data_user_products_num1,orders[['order_id','user_id']],on='order_id',how='left')\n",
    "data_user_products_num3=data_user_products_num2.groupby('user_id')['product_num'].agg(['sum','count'])\n",
    "data_user_products_num3['bl']=data_user_products_num3['sum']/data_user_products_num3['count']"
   ]
  },
  {
   "cell_type": "code",
   "execution_count": 17,
   "metadata": {},
   "outputs": [
    {
     "data": {
      "text/html": [
       "<div>\n",
       "<style scoped>\n",
       "    .dataframe tbody tr th:only-of-type {\n",
       "        vertical-align: middle;\n",
       "    }\n",
       "\n",
       "    .dataframe tbody tr th {\n",
       "        vertical-align: top;\n",
       "    }\n",
       "\n",
       "    .dataframe thead th {\n",
       "        text-align: right;\n",
       "    }\n",
       "</style>\n",
       "<table border=\"1\" class=\"dataframe\">\n",
       "  <thead>\n",
       "    <tr style=\"text-align: right;\">\n",
       "      <th></th>\n",
       "      <th>sum</th>\n",
       "      <th>count</th>\n",
       "      <th>bl</th>\n",
       "    </tr>\n",
       "    <tr>\n",
       "      <th>user_id</th>\n",
       "      <th></th>\n",
       "      <th></th>\n",
       "      <th></th>\n",
       "    </tr>\n",
       "  </thead>\n",
       "  <tbody>\n",
       "    <tr>\n",
       "      <th>1</th>\n",
       "      <td>59</td>\n",
       "      <td>10</td>\n",
       "      <td>5.900000</td>\n",
       "    </tr>\n",
       "    <tr>\n",
       "      <th>2</th>\n",
       "      <td>195</td>\n",
       "      <td>14</td>\n",
       "      <td>13.928571</td>\n",
       "    </tr>\n",
       "    <tr>\n",
       "      <th>3</th>\n",
       "      <td>88</td>\n",
       "      <td>12</td>\n",
       "      <td>7.333333</td>\n",
       "    </tr>\n",
       "    <tr>\n",
       "      <th>4</th>\n",
       "      <td>18</td>\n",
       "      <td>5</td>\n",
       "      <td>3.600000</td>\n",
       "    </tr>\n",
       "    <tr>\n",
       "      <th>5</th>\n",
       "      <td>37</td>\n",
       "      <td>4</td>\n",
       "      <td>9.250000</td>\n",
       "    </tr>\n",
       "  </tbody>\n",
       "</table>\n",
       "</div>"
      ],
      "text/plain": [
       "         sum  count         bl\n",
       "user_id                       \n",
       "1         59     10   5.900000\n",
       "2        195     14  13.928571\n",
       "3         88     12   7.333333\n",
       "4         18      5   3.600000\n",
       "5         37      4   9.250000"
      ]
     },
     "execution_count": 17,
     "metadata": {},
     "output_type": "execute_result"
    }
   ],
   "source": [
    "data_user_products_num3.head()"
   ]
  },
  {
   "cell_type": "code",
   "execution_count": 22,
   "metadata": {},
   "outputs": [
    {
     "data": {
      "image/png": "[encoded data removed]",
      "text/plain": [
       "<Figure size 576x432 with 1 Axes>"
      ]
     },
     "metadata": {},
     "output_type": "display_data"
    }
   ],
   "source": [
    "#the average number of products in each order for all users\n",
    "plt.scatter(data_user_products_num3.index[0:100], list(data_user_products_num3.bl)[0:100])\n",
    "plt.xlabel('user_id')  \n",
    "plt.ylabel(\"avg_products_num\") \n",
    "plt.title(\"order_histogram2\")  \n",
    "plt.show()"
   ]
  },
  {
   "cell_type": "code",
   "execution_count": 23,
   "metadata": {},
   "outputs": [
    {
     "data": {
      "image/png": "[encoded data removed]",
      "text/plain": [
       "<Figure size 576x432 with 1 Axes>"
      ]
     },
     "metadata": {},
     "output_type": "display_data"
    }
   ],
   "source": [
    "#the average number of products in each order for users have 4-100 orders\n",
    "data_user_products_num4=data_user_products_num3.groupby('count')['bl'].mean()\n",
    "plt.scatter(data_user_products_num4.index, list(data_user_products_num4))\n",
    "# descrpitions for x-axis, y-axis\n",
    "plt.xlabel('order_number') \n",
    "plt.ylabel(\"avg_products_num\")  \n",
    "plt.title(\"order_histogram2\")  \n",
    "plt.show()"
   ]
  },
  {
   "cell_type": "code",
   "execution_count": 24,
   "metadata": {},
   "outputs": [
    {
     "data": {
      "image/png": "[encoded data removed]",
      "text/plain": [
       "<Figure size 576x432 with 1 Axes>"
      ]
     },
     "metadata": {},
     "output_type": "display_data"
    }
   ],
   "source": [
    "#the time of orders in each day per week\n",
    "data_user_orders_day_num=orders.groupby('order_dow')['order_id'].count()\n",
    "days=['7_Sunday','1_Monday','2_Tuesday','3_Wednesday','4_Thursday','5_Friday','6_Saturday']\n",
    "day_num=list(data_user_orders_day_num)\n",
    "    \n",
    "plt.bar(days, day_num, color='rgb')  \n",
    "# descrpitions for x-axis, y-axis\n",
    "plt.xlabel('date')  \n",
    "plt.ylabel(\"order_number\")  \n",
    "plt.title(\"order_everyday_histogram\")  \n",
    "plt.show()\n"
   ]
  },
  {
   "cell_type": "code",
   "execution_count": 25,
   "metadata": {},
   "outputs": [
    {
     "data": {
      "image/png": "[encoded data removed]",
      "text/plain": [
       "<Figure size 576x432 with 1 Axes>"
      ]
     },
     "metadata": {},
     "output_type": "display_data"
    }
   ],
   "source": [
    "#the distribution of orders in each hour per day\n",
    "data_user_orders_hour_num=orders.groupby('order_hour_of_day')['order_id'].count()\n",
    "hour_num=list(data_user_orders_hour_num)\n",
    "    \n",
    "plt.bar(range(24), hour_num, color='rgb')  \n",
    "# descrpitions for x-axis, y-axis\n",
    "plt.xlabel('time_hour') \n",
    "plt.ylabel(\"order_number\") \n",
    "plt.title(\"order_everyhour_histogram\")  \n",
    "plt.show()"
   ]
  },
  {
   "cell_type": "code",
   "execution_count": 9,
   "metadata": {},
   "outputs": [
    {
     "name": "stderr",
     "output_type": "stream",
     "text": [
      "/usr/local/anaconda3/lib/python3.6/site-packages/IPython/core/interactiveshell.py:2963: FutureWarning: 'department_id' is both an index level and a column label.\n",
      "Defaulting to column, but this will raise an ambiguity error in a future version\n",
      "  exec(code_obj, self.user_global_ns, self.user_ns)\n"
     ]
    },
    {
     "data": {
      "image/png": "[encoded data removed]",
      "text/plain": [
       "<Figure size 576x432 with 1 Axes>"
      ]
     },
     "metadata": {},
     "output_type": "display_data"
    }
   ],
   "source": [
    "#the distribution of all products in each department \n",
    "product_num=pd.merge(order_products_prior,products,on='product_id',how='left')\n",
    "\n",
    "product_num1=product_num.groupby('department_id').count()\n",
    "product_num2=pd.DataFrame(product_num1)[['order_id']]\n",
    "product_num2['department_id']=product_num2.index\n",
    "product_num2.columns=['num','department_id']\n",
    "product_num3=pd.merge(product_num2,departments,on='department_id',how='left')\n",
    "plt.pie(x=list(product_num3.num), labels=list(product_num3.department))\n",
    "product_num4=data2[['department_id','reordered','order_id']].groupby(['department_id','reordered']).count()"
   ]
  },
  {
   "cell_type": "code",
   "execution_count": 11,
   "metadata": {},
   "outputs": [],
   "source": [
    "#wordcloud for high-demand products\n",
    "from wordcloud import WordCloud\n",
    "import re\n",
    "product_name=list(data2.product_name)\n",
    "product_name=[re.sub(' ','_',x) for x in product_name]\n",
    "product_name1=' '.join(product_name)\n",
    "\n",
    "# descrpitions for x-axis, y-axis\n",
    "wc = WordCloud(\n",
    "    font_path='simhei.ttf',     \n",
    "    background_color='white',   \n",
    "    width=800,\n",
    "    height=500,\n",
    "    max_font_size=80,           \n",
    "    min_font_size=10,\n",
    "    max_words=10000\n",
    ")\n",
    "wc.generate(product_name1[0:1000000])\n",
    "plt.imshow(wc)"
   ]
  },
  {
   "cell_type": "code",
   "execution_count": 12,
   "metadata": {},
   "outputs": [
    {
     "name": "stderr",
     "output_type": "stream",
     "text": [
      "/usr/local/anaconda3/lib/python3.6/site-packages/IPython/core/interactiveshell.py:2963: FutureWarning: 'department_id' is both an index level and a column label.\n",
      "Defaulting to column, but this will raise an ambiguity error in a future version\n",
      "  exec(code_obj, self.user_global_ns, self.user_ns)\n"
     ]
    },
    {
     "data": {
      "text/plain": [
       "([<matplotlib.patches.Wedge at 0x7f2c2991bba8>,\n",
       "  <matplotlib.patches.Wedge at 0x7f2c2991b4a8>,\n",
       "  <matplotlib.patches.Wedge at 0x7f2c298f5320>,\n",
       "  <matplotlib.patches.Wedge at 0x7f2c298f5080>,\n",
       "  <matplotlib.patches.Wedge at 0x7f2c298f5be0>,\n",
       "  <matplotlib.patches.Wedge at 0x7f2c2c9405f8>,\n",
       "  <matplotlib.patches.Wedge at 0x7f2c2c940780>,\n",
       "  <matplotlib.patches.Wedge at 0x7f2c298e35c0>,\n",
       "  <matplotlib.patches.Wedge at 0x7f2c298e3940>,\n",
       "  <matplotlib.patches.Wedge at 0x7f2c298e3358>,\n",
       "  <matplotlib.patches.Wedge at 0x7f2c29879cf8>,\n",
       "  <matplotlib.patches.Wedge at 0x7f2c2986d1d0>,\n",
       "  <matplotlib.patches.Wedge at 0x7f2c2986dbe0>,\n",
       "  <matplotlib.patches.Wedge at 0x7f2c298c2588>,\n",
       "  <matplotlib.patches.Wedge at 0x7f2c298c2dd8>,\n",
       "  <matplotlib.patches.Wedge at 0x7f2c298c22b0>,\n",
       "  <matplotlib.patches.Wedge at 0x7f2c298db6a0>,\n",
       "  <matplotlib.patches.Wedge at 0x7f2c298dbef0>,\n",
       "  <matplotlib.patches.Wedge at 0x7f2c298dbba8>,\n",
       "  <matplotlib.patches.Wedge at 0x7f2c2c930e80>,\n",
       "  <matplotlib.patches.Wedge at 0x7f2c2c91af28>],\n",
       " [Text(1.07429,0.236423,'frozen'),\n",
       "  Text(0.996742,0.465302,'other'),\n",
       "  Text(0.935323,0.578939,'bakery'),\n",
       "  Text(-0.0171602,1.09987,'produce'),\n",
       "  Text(-0.893891,0.64106,'alcohol'),\n",
       "  Text(-0.919396,0.603913,'international'),\n",
       "  Text(-1.05263,0.319326,'beverages'),\n",
       "  Text(-1.09967,0.0269541,'pets'),\n",
       "  Text(-1.09739,-0.0757306,'dry goods pasta'),\n",
       "  Text(-1.08661,-0.171112,'bulk'),\n",
       "  Text(-1.07745,-0.221605,'personal care'),\n",
       "  Text(-1.04594,-0.340612,'meat seafood'),\n",
       "  Text(-0.928955,-0.589103,'pantry'),\n",
       "  Text(-0.754012,-0.800915,'breakfast'),\n",
       "  Text(-0.605642,-0.918258,'canned goods'),\n",
       "  Text(0.0492508,-1.0989,'dairy eggs'),\n",
       "  Text(0.657563,-0.881822,'household'),\n",
       "  Text(0.75248,-0.802356,'babies'),\n",
       "  Text(0.967061,-0.524207,'snacks'),\n",
       "  Text(1.09271,-0.12646,'deli'),\n",
       "  Text(1.09998,-0.00736687,'missing')])"
      ]
     },
     "execution_count": 12,
     "metadata": {},
     "output_type": "execute_result"
    },
    {
     "data": {
      "image/png": "[encoded data removed]",
      "text/plain": [
       "<Figure size 576x432 with 1 Axes>"
      ]
     },
     "metadata": {},
     "output_type": "display_data"
    }
   ],
   "source": [
    "#the distribution of all products in each department \n",
    "product_num=pd.merge(order_products_prior,products,on='product_id',how='left')\n",
    "product_num1=product_num.groupby('department_id').count()\n",
    "product_num2=pd.DataFrame(product_num1)[['order_id']]\n",
    "product_num2['department_id']=product_num2.index\n",
    "product_num2.columns=['num','department_id']\n",
    "product_num3=pd.merge(product_num2,departments,on='department_id',how='left')\n",
    "plt.pie(x=list(product_num3.num), labels=list(product_num3.department))\n",
    " "
   ]
  },
  {
   "cell_type": "code",
   "execution_count": 13,
   "metadata": {},
   "outputs": [],
   "source": [
    "product_num4=data2[['department_id','reordered','order_id']].groupby(['department_id','reordered']).count()\n",
    "product_num4=pd.DataFrame(product_num4)\n",
    "product_num5=pd.DataFrame(list(range(1,22)))"
   ]
  },
  {
   "cell_type": "code",
   "execution_count": 14,
   "metadata": {},
   "outputs": [],
   "source": [
    "a=[]\n",
    "for i in range(21):\n",
    "    a.append(product_num4.iloc[i*2+1,0])"
   ]
  },
  {
   "cell_type": "code",
   "execution_count": 15,
   "metadata": {},
   "outputs": [],
   "source": [
    "product_num5['num']=a\n",
    "product_num5.columns=['department_id','reordered_num']"
   ]
  },
  {
   "cell_type": "code",
   "execution_count": 16,
   "metadata": {},
   "outputs": [],
   "source": [
    "product_num6=pd.merge(product_num5,product_num3,on='department_id',how='left')"
   ]
  },
  {
   "cell_type": "code",
   "execution_count": 17,
   "metadata": {},
   "outputs": [],
   "source": [
    "product_num6.reordered_num=product_num6.reordered_num/product_num6.num"
   ]
  },
  {
   "cell_type": "code",
   "execution_count": 18,
   "metadata": {},
   "outputs": [],
   "source": [
    "product_num6.num=product_num6.num/sum(product_num6.num)"
   ]
  },
  {
   "cell_type": "code",
   "execution_count": 19,
   "metadata": {},
   "outputs": [
    {
     "data": {
      "text/plain": [
       "Index(['department_id', 'reordered_num', 'num', 'department'], dtype='object')"
      ]
     },
     "execution_count": 19,
     "metadata": {},
     "output_type": "execute_result"
    }
   ],
   "source": [
    "product_num6.columns"
   ]
  },
  {
   "cell_type": "code",
   "execution_count": 20,
   "metadata": {},
   "outputs": [],
   "source": [
    "regr = linear_model.LinearRegression()"
   ]
  },
  {
   "cell_type": "code",
   "execution_count": 21,
   "metadata": {},
   "outputs": [],
   "source": [
    "x=[[a] for a in list(product_num6['reordered_num'])]\n",
    "y=[[a] for a in list(product_num6['num'])]"
   ]
  },
  {
   "cell_type": "code",
   "execution_count": 22,
   "metadata": {},
   "outputs": [
    {
     "data": {
      "text/plain": [
       "LinearRegression(copy_X=True, fit_intercept=True, n_jobs=None,\n",
       "         normalize=False)"
      ]
     },
     "execution_count": 22,
     "metadata": {},
     "output_type": "execute_result"
    }
   ],
   "source": [
    "regr.fit(x,y)"
   ]
  },
  {
   "cell_type": "code",
   "execution_count": 23,
   "metadata": {},
   "outputs": [
    {
     "data": {
      "text/plain": [
       "[<matplotlib.lines.Line2D at 0x7f2c2d15ff28>]"
      ]
     },
     "execution_count": 23,
     "metadata": {},
     "output_type": "execute_result"
    },
    {
     "data": {
      "image/png": "[encoded data removed]",
      "text/plain": [
       "<Figure size 576x432 with 1 Axes>"
      ]
     },
     "metadata": {},
     "output_type": "display_data"
    }
   ],
   "source": [
    "#relationship between rate of second glance and the number of products\n",
    "plt.xlabel('rate_of_second_glance')  \n",
    "plt.ylabel(\"product_number\")  \n",
    "plt.title(\"second_glance_with_product_num\") \n",
    "plt.scatter(x,y, color='blue')\n",
    "plt.plot(x,regr.predict(x),color='red')"
   ]
  },
  {
   "cell_type": "code",
   "execution_count": 24,
   "metadata": {
    "scrolled": true
   },
   "outputs": [
    {
     "name": "stdout",
     "output_type": "stream",
     "text": [
      "1\n",
      "2\n",
      "3\n",
      "4\n",
      "5\n",
      "6\n",
      "7\n",
      "8\n",
      "9\n",
      "10\n",
      "11\n",
      "12\n",
      "13\n",
      "14\n",
      "15\n",
      "16\n",
      "17\n",
      "18\n",
      "19\n",
      "20\n",
      "21\n"
     ]
    }
   ],
   "source": [
    "#the relationship between products' users and products' sales volume\n",
    "department_user_num=[]\n",
    "for i in range(1,22):\n",
    "    a=len(set(data2[data2.department_id==i].user_id))\n",
    "    department_user_num.append(a)\n",
    "    print(i)"
   ]
  },
  {
   "cell_type": "code",
   "execution_count": 18,
   "metadata": {},
   "outputs": [],
   "source": [
    "department_user_num1=[x/206209 for x in department_user_num]"
   ]
  },
  {
   "cell_type": "code",
   "execution_count": 19,
   "metadata": {},
   "outputs": [],
   "source": [
    "product_num6['department_user_num']=department_user_num1"
   ]
  },
  {
   "cell_type": "code",
   "execution_count": 21,
   "metadata": {},
   "outputs": [],
   "source": [
    "x=[[a] for a in list(product_num6['department_user_num'])]\n",
    "y=[[a] for a in list(product_num6['num'])]"
   ]
  },
  {
   "cell_type": "code",
   "execution_count": 22,
   "metadata": {},
   "outputs": [
    {
     "data": {
      "text/plain": [
       "[<matplotlib.lines.Line2D at 0x7fb10e1545c0>]"
      ]
     },
     "execution_count": 22,
     "metadata": {},
     "output_type": "execute_result"
    },
    {
     "data": {
      "image/png": "[encoded data removed]",
      "text/plain": [
       "<Figure size 432x288 with 1 Axes>"
      ]
     },
     "metadata": {},
     "output_type": "display_data"
    }
   ],
   "source": [
    "#the relationship between products' users and products' sales volume\n",
    "plt.xlabel('rate_of_user_num') \n",
    "plt.ylabel(\"product_number\")  \n",
    "plt.title(\"user_num_with_product_num\") \n",
    "regr.fit(x,y)\n",
    "plt.scatter(x,y, color='blue')\n",
    "plt.plot(x,regr.predict(x),color='red')"
   ]
  },
  {
   "cell_type": "code",
   "execution_count": 25,
   "metadata": {},
   "outputs": [
    {
     "name": "stderr",
     "output_type": "stream",
     "text": [
      "/usr/local/anaconda3/lib/python3.6/site-packages/IPython/core/interactiveshell.py:2963: FutureWarning: 'department_id' is both an index level and a column label.\n",
      "Defaulting to column, but this will raise an ambiguity error in a future version\n",
      "  exec(code_obj, self.user_global_ns, self.user_ns)\n"
     ]
    },
    {
     "data": {
      "image/png": "[encoded data removed]",
      "text/plain": [
       "<Figure size 576x432 with 1 Axes>"
      ]
     },
     "metadata": {},
     "output_type": "display_data"
    }
   ],
   "source": [
    "#analysis of shopping time\n",
    "product_time=data2.groupby('department_id')['order_hour_of_day'].mean()\n",
    "product_time=pd.DataFrame(product_time)\n",
    "product_time['department_id']=product_time.index\n",
    "product_time1=pd.merge(product_time,departments,on='department_id',how='left')\n",
    "plt.xlabel('department_id') \n",
    "plt.ylabel(\"avg_time\")  \n",
    "plt.title(\"department_id_avg_time\") \n",
    "plt.bar(list(range(1,22)),list(product_time1.order_hour_of_day))\n",
    "plt.show()"
   ]
  },
  {
   "cell_type": "code",
   "execution_count": 26,
   "metadata": {},
   "outputs": [],
   "source": [
    "#barchart for total orders each hour of a day\n",
    "product_time=data2.groupby('product_id')['order_hour_of_day'].mean()\n",
    "product_time=pd.DataFrame(product_time)\n",
    "product_time['product_id']=product_time.index"
   ]
  },
  {
   "cell_type": "code",
   "execution_count": 27,
   "metadata": {},
   "outputs": [],
   "source": [
    "num_product_different_time=[]\n",
    "for i in range(24):\n",
    "    a=product_time[(product_time.order_hour_of_day>=i) & (product_time.order_hour_of_day<i+1)].shape[0]\n",
    "    num_product_different_time.append(a)"
   ]
  },
  {
   "cell_type": "code",
   "execution_count": 28,
   "metadata": {
    "scrolled": false
   },
   "outputs": [
    {
     "data": {
      "text/plain": [
       "<BarContainer object of 24 artists>"
      ]
     },
     "execution_count": 28,
     "metadata": {},
     "output_type": "execute_result"
    },
    {
     "data": {
      "image/png": "[encoded data removed]",
      "text/plain": [
       "<Figure size 576x432 with 1 Axes>"
      ]
     },
     "metadata": {},
     "output_type": "display_data"
    }
   ],
   "source": [
    "#barchart for total orders each hour of a day\n",
    "plt.xlabel('hour_of_day')  \n",
    "plt.ylabel(\"num_product\")  \n",
    "plt.title(\"num_product_hour\") \n",
    "plt.bar(list(range(24)), list(num_product_different_time))"
   ]
  },
  {
   "cell_type": "markdown",
   "metadata": {},
   "source": [
    "开始处理特征，建立预测模型"
   ]
  },
  {
   "cell_type": "code",
   "execution_count": 35,
   "metadata": {},
   "outputs": [],
   "source": [
    "#Feature Engeerning\n",
    "#1.1 gmcs imply to the total number of orders for each users；\n",
    "#1.2 gmpl imply to reorder ratio and reorder time interval；\n",
    "#1.3 user_fgl imply to reorder ratio for each user；\n",
    "#1.4 producty_num_everytime is the average number of products；\n",
    "#1.5 num_product the total number of products for each user；\n",
    "#1.6 num_distinct_product the number of distinct product of user "
   ]
  },
  {
   "cell_type": "code",
   "execution_count": 26,
   "metadata": {},
   "outputs": [],
   "source": [
    "#1.1 gmcs imply to the total number of orders for each users\n",
    "gmcs=orders_prior.groupby(['user_id'])['order_id'].count()\n",
    "gmcs=pd.DataFrame(gmcs)\n",
    "gmcs['user_id']=gmcs.index\n",
    "gmcs.columns=['gmcs','user_id']"
   ]
  },
  {
   "cell_type": "code",
   "execution_count": 27,
   "metadata": {},
   "outputs": [
    {
     "data": {
      "text/plain": [
       "(206209, 2)"
      ]
     },
     "execution_count": 27,
     "metadata": {},
     "output_type": "execute_result"
    }
   ],
   "source": [
    "gmcs.shape"
   ]
  },
  {
   "cell_type": "code",
   "execution_count": 28,
   "metadata": {},
   "outputs": [
    {
     "name": "stderr",
     "output_type": "stream",
     "text": [
      "/usr/local/anaconda3/lib/python3.6/site-packages/pandas/core/generic.py:4405: SettingWithCopyWarning: \n",
      "A value is trying to be set on a copy of a slice from a DataFrame.\n",
      "Try using .loc[row_indexer,col_indexer] = value instead\n",
      "\n",
      "See the caveats in the documentation: http://pandas.pydata.org/pandas-docs/stable/indexing.html#indexing-view-versus-copy\n",
      "  self[name] = value\n"
     ]
    }
   ],
   "source": [
    "#1.2 gmpl imply to reorder ratio and reorder time interval；\n",
    "# drops Null values in days_since-prior_order\n",
    "orders_prior.days_since_prior_order=orders_prior.days_since_prior_order.replace({np.NaN:0})"
   ]
  },
  {
   "cell_type": "code",
   "execution_count": 29,
   "metadata": {},
   "outputs": [],
   "source": [
    "gmpl=orders_prior.groupby(['user_id'])['days_since_prior_order'].mean()\n",
    "gmpl=pd.DataFrame(gmpl)\n",
    "gmpl['user_id']=gmpl.index\n",
    "gmpl.columns=['gmpl','user_id']"
   ]
  },
  {
   "cell_type": "code",
   "execution_count": 30,
   "metadata": {},
   "outputs": [],
   "source": [
    "#1.3 user_fgl imply to reorder ratio for each user\n",
    "user_fgl=data2.groupby('user_id')['reordered'].mean()\n",
    "user_fgl=pd.DataFrame(user_fgl)\n",
    "user_fgl['user_id']=user_fgl.index\n",
    "user_fgl.columns=['user_fgl','user_id']"
   ]
  },
  {
   "cell_type": "code",
   "execution_count": 31,
   "metadata": {},
   "outputs": [],
   "source": [
    "#1.4 product_num_everytime is the average number of products"
   ]
  },
  {
   "cell_type": "code",
   "execution_count": 32,
   "metadata": {},
   "outputs": [],
   "source": [
    "a1=data2.groupby('order_id')['add_to_cart_order'].max()\n",
    "a1=pd.DataFrame(a1)\n",
    "a1['order_id']=a1.index\n",
    "a1.columns=['product_num_everytime','order_id']"
   ]
  },
  {
   "cell_type": "code",
   "execution_count": 33,
   "metadata": {},
   "outputs": [
    {
     "name": "stderr",
     "output_type": "stream",
     "text": [
      "/usr/local/anaconda3/lib/python3.6/site-packages/IPython/core/interactiveshell.py:2963: FutureWarning: 'order_id' is both an index level and a column label.\n",
      "Defaulting to column, but this will raise an ambiguity error in a future version\n",
      "  exec(code_obj, self.user_global_ns, self.user_ns)\n"
     ]
    }
   ],
   "source": [
    "product_num_everytime=pd.merge(a1,orders_prior,on='order_id',how='left')"
   ]
  },
  {
   "cell_type": "code",
   "execution_count": 34,
   "metadata": {},
   "outputs": [],
   "source": [
    "product_num_everytime=product_num_everytime.groupby('user_id')['product_num_everytime'].mean()\n",
    "product_num_everytime=pd.DataFrame(product_num_everytime)\n",
    "product_num_everytime['user_id']=product_num_everytime.index\n",
    "product_num_everytime.columns=['product_num_everytime','user_id']"
   ]
  },
  {
   "cell_type": "code",
   "execution_count": 35,
   "metadata": {},
   "outputs": [],
   "source": [
    "#1.5 num_product is the total number of products for each user\n",
    "num_product=data2.groupby('user_id')['product_id'].count()\n",
    "num_product=pd.DataFrame(num_product)\n",
    "num_product['user_id']=num_product.index\n",
    "num_product.columns=['num_product','user_id']"
   ]
  },
  {
   "cell_type": "code",
   "execution_count": 36,
   "metadata": {},
   "outputs": [],
   "source": [
    "#1.6 num_distinct_product the number of distinct product of user\n",
    "def f1(x):\n",
    "    return len(set(x))\n",
    "\n",
    "num_distinct_prodct=data2.groupby('user_id')['product_id'].apply(f1)\n",
    "num_distinct_prodct=pd.DataFrame(num_distinct_prodct)\n",
    "num_distinct_prodct['user_id']=num_distinct_prodct.index\n",
    "num_distinct_prodct.columns=['num_distinct_prodct','user_id']"
   ]
  },
  {
   "cell_type": "code",
   "execution_count": 37,
   "metadata": {},
   "outputs": [],
   "source": [
    "data2_last_order=data2.groupby('user_id')['order_number'].max()\n",
    "data2_last_order=pd.DataFrame(data2_last_order)\n",
    "data2_last_order['user_id']=data2_last_order.index\n",
    "data2_last_order.columns=['num','user_id']"
   ]
  },
  {
   "cell_type": "code",
   "execution_count": 38,
   "metadata": {},
   "outputs": [],
   "source": [
    "data2_last_order1=data2_last_order"
   ]
  },
  {
   "cell_type": "code",
   "execution_count": 39,
   "metadata": {},
   "outputs": [
    {
     "name": "stderr",
     "output_type": "stream",
     "text": [
      "/usr/local/anaconda3/lib/python3.6/site-packages/IPython/core/interactiveshell.py:2963: FutureWarning: 'user_id' is both an index level and a column label.\n",
      "Defaulting to column, but this will raise an ambiguity error in a future version\n",
      "  exec(code_obj, self.user_global_ns, self.user_ns)\n"
     ]
    }
   ],
   "source": [
    "data2_last_order=pd.merge(data2,data2_last_order,on='user_id',how='left')\n",
    "data2_last_order=data2_last_order[data2_last_order.order_number==data2_last_order.num]\n",
    "data2_last_order=data2_last_order.groupby('user_id')['reordered'].mean()\n",
    "data2_last_order=pd.DataFrame(data2_last_order)\n",
    "data2_last_order['user_id']=data2_last_order.index\n",
    "data2_last_order.columns=['last_order_reorderd','user_id']"
   ]
  },
  {
   "cell_type": "code",
   "execution_count": 40,
   "metadata": {},
   "outputs": [
    {
     "name": "stderr",
     "output_type": "stream",
     "text": [
      "/usr/local/anaconda3/lib/python3.6/site-packages/IPython/core/interactiveshell.py:2963: FutureWarning: 'user_id' is both an index level and a column label.\n",
      "Defaulting to column, but this will raise an ambiguity error in a future version\n",
      "  exec(code_obj, self.user_global_ns, self.user_ns)\n"
     ]
    }
   ],
   "source": [
    "data_all1=pd.merge(gmcs,gmpl,on='user_id',how='left')\n",
    "data_all1=pd.merge(data_all1,user_fgl,on='user_id',how='left')\n",
    "data_all1=pd.merge(data_all1,product_num_everytime,on='user_id',how='left')\n",
    "data_all1=pd.merge(data_all1,num_product,on='user_id',how='left')\n",
    "data_all1=pd.merge(data_all1,num_distinct_prodct,on='user_id',how='left')\n",
    "data_all1=pd.merge(data_all1,data2_last_order,on='user_id',how='left')"
   ]
  },
  {
   "cell_type": "code",
   "execution_count": 41,
   "metadata": {},
   "outputs": [
    {
     "name": "stderr",
     "output_type": "stream",
     "text": [
      "/usr/local/anaconda3/lib/python3.6/site-packages/IPython/core/interactiveshell.py:2963: FutureWarning: 'user_id' is both an index level and a column label.\n",
      "Defaulting to column, but this will raise an ambiguity error in a future version\n",
      "  exec(code_obj, self.user_global_ns, self.user_ns)\n"
     ]
    }
   ],
   "source": [
    "data2=pd.merge(data2,data2_last_order1,on='user_id',how='left')"
   ]
  },
  {
   "cell_type": "code",
   "execution_count": 43,
   "metadata": {},
   "outputs": [],
   "source": [
    "# 2.1 product_of_order_num is users order ratio over total orders\n",
    "product_of_order_num=data2.groupby('product_id')['order_id'].count()\n",
    "product_of_order_num=pd.DataFrame(product_of_order_num)\n",
    "product_of_order_num['product_of_order_num']=product_of_order_num.index\n",
    "product_of_order_num.columns=['product_of_order_num','product_id']"
   ]
  },
  {
   "cell_type": "code",
   "execution_count": 44,
   "metadata": {},
   "outputs": [],
   "source": [
    "#2.2 product_of_user_num is the number of users buying specific products\n",
    "product_of_user_num=data2.groupby('product_id')['user_id'].apply(f1)\n",
    "product_of_user_num=pd.DataFrame(product_of_user_num)\n",
    "product_of_user_num['product_of_user_num']=product_of_user_num.index\n",
    "product_of_user_num.columns=['product_of_user_num','product_id']"
   ]
  },
  {
   "cell_type": "code",
   "execution_count": 45,
   "metadata": {},
   "outputs": [],
   "source": [
    "#2.3 product_of_second_order_num is the number of reorder orders\n",
    "product_of_second_order_num=data2[data2.reordered==1].groupby('product_id')['order_id'].count()\n",
    "product_of_second_order_num=pd.DataFrame(product_of_second_order_num)\n",
    "product_of_second_order_num['product_of_second_order_num']=product_of_second_order_num.index\n",
    "product_of_second_order_num.columns=['product_of_second_order_num','product_id']"
   ]
  },
  {
   "cell_type": "code",
   "execution_count": 46,
   "metadata": {},
   "outputs": [],
   "source": [
    "#2.4 product_of_second_user_num is the number of reorder users\n",
    "product_of_second_user_num=data2[data2.reordered==1].groupby('product_id')['user_id'].apply(f1)\n",
    "product_of_second_user_num=pd.DataFrame(product_of_second_user_num)\n",
    "product_of_second_user_num['product_of_second_user_num']=product_of_second_user_num.index\n",
    "product_of_second_user_num.columns=['product_of_second_user_num','product_id']"
   ]
  },
  {
   "cell_type": "code",
   "execution_count": 47,
   "metadata": {},
   "outputs": [],
   "source": [
    "#2.5 product_fgl is the reorder ratio of the product\n",
    "product_fgl=data2.groupby('product_id')['reordered'].mean()\n",
    "product_fgl=pd.DataFrame(product_fgl)\n",
    "product_fgl['product_id']=product_fgl.index\n",
    "product_fgl.columns=['product_fgl','product_id']"
   ]
  },
  {
   "cell_type": "code",
   "execution_count": 48,
   "metadata": {},
   "outputs": [],
   "source": [
    "#2.6 product_location is the location in the cart or add to cart order\n",
    "product_location=data2.groupby('product_id')['add_to_cart_order'].mean()\n",
    "product_location=pd.DataFrame(product_location)\n",
    "product_location['product_id']=product_location.index\n",
    "product_location.columns=['product_location','product_id']"
   ]
  },
  {
   "cell_type": "code",
   "execution_count": 49,
   "metadata": {},
   "outputs": [
    {
     "name": "stderr",
     "output_type": "stream",
     "text": [
      "/usr/local/anaconda3/lib/python3.6/site-packages/IPython/core/interactiveshell.py:2963: FutureWarning: 'product_id' is both an index level and a column label.\n",
      "Defaulting to column, but this will raise an ambiguity error in a future version\n",
      "  exec(code_obj, self.user_global_ns, self.user_ns)\n"
     ]
    }
   ],
   "source": [
    "data_all2=pd.merge(product_of_order_num,product_of_user_num,on='product_id',how='left')\n",
    "data_all2=pd.merge(data_all2,product_of_second_order_num,on='product_id',how='left')\n",
    "data_all2=pd.merge(data_all2,product_of_second_user_num,on='product_id',how='left')\n",
    "data_all2=pd.merge(data_all2,product_fgl,on='product_id',how='left')\n",
    "data_all2=pd.merge(data_all2,product_location,on='product_id',how='left')"
   ]
  },
  {
   "cell_type": "code",
   "execution_count": 50,
   "metadata": {},
   "outputs": [
    {
     "data": {
      "text/plain": [
       "(49677, 7)"
      ]
     },
     "execution_count": 50,
     "metadata": {},
     "output_type": "execute_result"
    }
   ],
   "source": [
    "data_all2.shape"
   ]
  },
  {
   "cell_type": "code",
   "execution_count": 51,
   "metadata": {},
   "outputs": [
    {
     "data": {
      "text/html": [
       "<div>\n",
       "<style scoped>\n",
       "    .dataframe tbody tr th:only-of-type {\n",
       "        vertical-align: middle;\n",
       "    }\n",
       "\n",
       "    .dataframe tbody tr th {\n",
       "        vertical-align: top;\n",
       "    }\n",
       "\n",
       "    .dataframe thead th {\n",
       "        text-align: right;\n",
       "    }\n",
       "</style>\n",
       "<table border=\"1\" class=\"dataframe\">\n",
       "  <thead>\n",
       "    <tr style=\"text-align: right;\">\n",
       "      <th></th>\n",
       "      <th>order_id</th>\n",
       "      <th>product_id</th>\n",
       "      <th>add_to_cart_order</th>\n",
       "      <th>reordered</th>\n",
       "      <th>user_id</th>\n",
       "      <th>eval_set</th>\n",
       "      <th>order_number</th>\n",
       "      <th>order_dow</th>\n",
       "      <th>order_hour_of_day</th>\n",
       "      <th>days_since_prior_order</th>\n",
       "      <th>product_name</th>\n",
       "      <th>aisle_id</th>\n",
       "      <th>department_id</th>\n",
       "      <th>num</th>\n",
       "    </tr>\n",
       "  </thead>\n",
       "  <tbody>\n",
       "    <tr>\n",
       "      <th>0</th>\n",
       "      <td>2</td>\n",
       "      <td>33120</td>\n",
       "      <td>1</td>\n",
       "      <td>1</td>\n",
       "      <td>202279</td>\n",
       "      <td>prior</td>\n",
       "      <td>3</td>\n",
       "      <td>5</td>\n",
       "      <td>9</td>\n",
       "      <td>8.0</td>\n",
       "      <td>Organic Egg Whites</td>\n",
       "      <td>86</td>\n",
       "      <td>16</td>\n",
       "      <td>8</td>\n",
       "    </tr>\n",
       "    <tr>\n",
       "      <th>1</th>\n",
       "      <td>2</td>\n",
       "      <td>28985</td>\n",
       "      <td>2</td>\n",
       "      <td>1</td>\n",
       "      <td>202279</td>\n",
       "      <td>prior</td>\n",
       "      <td>3</td>\n",
       "      <td>5</td>\n",
       "      <td>9</td>\n",
       "      <td>8.0</td>\n",
       "      <td>Michigan Organic Kale</td>\n",
       "      <td>83</td>\n",
       "      <td>4</td>\n",
       "      <td>8</td>\n",
       "    </tr>\n",
       "    <tr>\n",
       "      <th>2</th>\n",
       "      <td>2</td>\n",
       "      <td>9327</td>\n",
       "      <td>3</td>\n",
       "      <td>0</td>\n",
       "      <td>202279</td>\n",
       "      <td>prior</td>\n",
       "      <td>3</td>\n",
       "      <td>5</td>\n",
       "      <td>9</td>\n",
       "      <td>8.0</td>\n",
       "      <td>Garlic Powder</td>\n",
       "      <td>104</td>\n",
       "      <td>13</td>\n",
       "      <td>8</td>\n",
       "    </tr>\n",
       "    <tr>\n",
       "      <th>3</th>\n",
       "      <td>2</td>\n",
       "      <td>45918</td>\n",
       "      <td>4</td>\n",
       "      <td>1</td>\n",
       "      <td>202279</td>\n",
       "      <td>prior</td>\n",
       "      <td>3</td>\n",
       "      <td>5</td>\n",
       "      <td>9</td>\n",
       "      <td>8.0</td>\n",
       "      <td>Coconut Butter</td>\n",
       "      <td>19</td>\n",
       "      <td>13</td>\n",
       "      <td>8</td>\n",
       "    </tr>\n",
       "    <tr>\n",
       "      <th>4</th>\n",
       "      <td>2</td>\n",
       "      <td>30035</td>\n",
       "      <td>5</td>\n",
       "      <td>0</td>\n",
       "      <td>202279</td>\n",
       "      <td>prior</td>\n",
       "      <td>3</td>\n",
       "      <td>5</td>\n",
       "      <td>9</td>\n",
       "      <td>8.0</td>\n",
       "      <td>Natural Sweetener</td>\n",
       "      <td>17</td>\n",
       "      <td>13</td>\n",
       "      <td>8</td>\n",
       "    </tr>\n",
       "  </tbody>\n",
       "</table>\n",
       "</div>"
      ],
      "text/plain": [
       "   order_id  product_id  add_to_cart_order  reordered  user_id eval_set  \\\n",
       "0         2       33120                  1          1   202279    prior   \n",
       "1         2       28985                  2          1   202279    prior   \n",
       "2         2        9327                  3          0   202279    prior   \n",
       "3         2       45918                  4          1   202279    prior   \n",
       "4         2       30035                  5          0   202279    prior   \n",
       "\n",
       "   order_number  order_dow  order_hour_of_day  days_since_prior_order  \\\n",
       "0             3          5                  9                     8.0   \n",
       "1             3          5                  9                     8.0   \n",
       "2             3          5                  9                     8.0   \n",
       "3             3          5                  9                     8.0   \n",
       "4             3          5                  9                     8.0   \n",
       "\n",
       "            product_name  aisle_id  department_id  num  \n",
       "0     Organic Egg Whites        86             16    8  \n",
       "1  Michigan Organic Kale        83              4    8  \n",
       "2          Garlic Powder       104             13    8  \n",
       "3         Coconut Butter        19             13    8  \n",
       "4      Natural Sweetener        17             13    8  "
      ]
     },
     "execution_count": 51,
     "metadata": {},
     "output_type": "execute_result"
    }
   ],
   "source": [
    "data2.head()"
   ]
  },
  {
   "cell_type": "code",
   "execution_count": 53,
   "metadata": {},
   "outputs": [
    {
     "name": "stderr",
     "output_type": "stream",
     "text": [
      "/usr/local/anaconda3/lib/python3.6/site-packages/pandas/core/frame.py:6211: FutureWarning: Sorting because non-concatenation axis is not aligned. A future version\n",
      "of pandas will change to not sort by default.\n",
      "\n",
      "To accept the future behavior, pass 'sort=False'.\n",
      "\n",
      "To retain the current behavior and silence the warning, pass 'sort=True'.\n",
      "\n",
      "  sort=sort)\n"
     ]
    }
   ],
   "source": [
    "data3=data2[data2.order_number< data2.num]\n",
    "data4=data2[data2.order_number== data2.num]\n",
    "\n",
    "#constructing positive examples\n",
    "import random\n",
    "product_id_all=list(set(data2.product_id))\n",
    "user_id_all=list(set(data2.user_id))\n",
    "\n",
    "\n",
    "#constructing negative examples base on what products user did not buy on their last orders\n",
    "#reorder ratio of users is 0.6\n",
    "#choose 0.7 from previously purchased items 0.3 from total products for construtng negative examples\n",
    "择\n",
    "#creat dic for each user\n",
    "data5=data3[['user_id','product_id']]\n",
    "map_dict={}\n",
    "\n",
    "# k=0\n",
    "# for i in user_id_all:\n",
    "#     k+=1\n",
    "#     map_dict[i]=list(set(data5[data5['user_id']==i]['product_id']))\n",
    "#     if k%10000==0:\n",
    "#         print(k)\n",
    "        \n",
    "        \n",
    "#save file for later use\n",
    "# map1=pd.DataFrame()\n",
    "# map1['user_id']=map_dict.keys()\n",
    "# map1['product_id']=  map_dict.values()\n",
    "#map1.to_csv('/home/user_ds/qianpeng/script/studying/map_dict.csv')\n",
    "\n",
    "\n",
    "\n",
    "\n",
    "map2=pd.read_csv('/home/user_ds/qianpeng/script/studying/map_dict.csv')\n",
    "user_id=list(map2.user_id)\n",
    "product_id=list(map2.product_id)\n",
    "product_id=[x[1:][0:-1].split(',') for x in product_id]\n",
    "product_id=[[int(x1) for x1 in x] for x in product_id]\n",
    "map_dict1=dict(zip(user_id,product_id))\n",
    "map_dict=map_dict1\n",
    "\n",
    "\n",
    "user_id=[]\n",
    "product_id=[]\n",
    "data_label0=pd.DataFrame()\n",
    "for i in user_id_all:\n",
    "    product_id=random.sample(map_dict[i],int(len(map_dict[i])*0.7*0.3))\n",
    "    product_id.extend(random.sample(product_id_all,int(len(map_dict[i])*0.3*0.3)))\n",
    "    user_id=[i]*len(product_id)\n",
    "    a=pd.DataFrame(user_id)\n",
    "    a['product_id']=product_id\n",
    "    data_label0=data_label0.append(a)\n",
    "data_label0.columns=['user_id','product_id']\n",
    "#finishing positive and negative examples"
   ]
  },
  {
   "cell_type": "code",
   "execution_count": 54,
   "metadata": {},
   "outputs": [
    {
     "data": {
      "text/html": [
       "<div>\n",
       "<style scoped>\n",
       "    .dataframe tbody tr th:only-of-type {\n",
       "        vertical-align: middle;\n",
       "    }\n",
       "\n",
       "    .dataframe tbody tr th {\n",
       "        vertical-align: top;\n",
       "    }\n",
       "\n",
       "    .dataframe thead th {\n",
       "        text-align: right;\n",
       "    }\n",
       "</style>\n",
       "<table border=\"1\" class=\"dataframe\">\n",
       "  <thead>\n",
       "    <tr style=\"text-align: right;\">\n",
       "      <th></th>\n",
       "      <th>user_id</th>\n",
       "      <th>product_id</th>\n",
       "    </tr>\n",
       "  </thead>\n",
       "  <tbody>\n",
       "    <tr>\n",
       "      <th>0</th>\n",
       "      <td>1.0</td>\n",
       "      <td>26088.0</td>\n",
       "    </tr>\n",
       "    <tr>\n",
       "      <th>1</th>\n",
       "      <td>1.0</td>\n",
       "      <td>25133.0</td>\n",
       "    </tr>\n",
       "    <tr>\n",
       "      <th>2</th>\n",
       "      <td>1.0</td>\n",
       "      <td>10258.0</td>\n",
       "    </tr>\n",
       "    <tr>\n",
       "      <th>3</th>\n",
       "      <td>1.0</td>\n",
       "      <td>4833.0</td>\n",
       "    </tr>\n",
       "    <tr>\n",
       "      <th>0</th>\n",
       "      <td>2.0</td>\n",
       "      <td>16521.0</td>\n",
       "    </tr>\n",
       "  </tbody>\n",
       "</table>\n",
       "</div>"
      ],
      "text/plain": [
       "   user_id  product_id\n",
       "0      1.0     26088.0\n",
       "1      1.0     25133.0\n",
       "2      1.0     10258.0\n",
       "3      1.0      4833.0\n",
       "0      2.0     16521.0"
      ]
     },
     "execution_count": 54,
     "metadata": {},
     "output_type": "execute_result"
    }
   ],
   "source": [
    "data_label0.head()"
   ]
  },
  {
   "cell_type": "code",
   "execution_count": 55,
   "metadata": {},
   "outputs": [],
   "source": [
    "#3.1 orders_num_buy_the_product is the number of users bought the product\n",
    "aa=data3.groupby(['user_id','product_id'])['order_id'].count()\n",
    "aa=pd.DataFrame(aa)"
   ]
  },
  {
   "cell_type": "code",
   "execution_count": 56,
   "metadata": {},
   "outputs": [],
   "source": [
    "a=list(aa.index)\n",
    "user_id=[x[0] for x in a]\n",
    "product_id=[x[1] for x in a]"
   ]
  },
  {
   "cell_type": "code",
   "execution_count": 57,
   "metadata": {},
   "outputs": [],
   "source": [
    "aa['user_id']=user_id\n",
    "aa['product_id']=product_id\n",
    "aa.columns=['orders_num_buy_the_product','user_id','product_id']"
   ]
  },
  {
   "cell_type": "code",
   "execution_count": 58,
   "metadata": {},
   "outputs": [
    {
     "data": {
      "text/html": [
       "<div>\n",
       "<style scoped>\n",
       "    .dataframe tbody tr th:only-of-type {\n",
       "        vertical-align: middle;\n",
       "    }\n",
       "\n",
       "    .dataframe tbody tr th {\n",
       "        vertical-align: top;\n",
       "    }\n",
       "\n",
       "    .dataframe thead th {\n",
       "        text-align: right;\n",
       "    }\n",
       "</style>\n",
       "<table border=\"1\" class=\"dataframe\">\n",
       "  <thead>\n",
       "    <tr style=\"text-align: right;\">\n",
       "      <th></th>\n",
       "      <th></th>\n",
       "      <th>orders_num_buy_the_product</th>\n",
       "      <th>user_id</th>\n",
       "      <th>product_id</th>\n",
       "    </tr>\n",
       "    <tr>\n",
       "      <th>user_id</th>\n",
       "      <th>product_id</th>\n",
       "      <th></th>\n",
       "      <th></th>\n",
       "      <th></th>\n",
       "    </tr>\n",
       "  </thead>\n",
       "  <tbody>\n",
       "    <tr>\n",
       "      <th rowspan=\"5\" valign=\"top\">1</th>\n",
       "      <th>196</th>\n",
       "      <td>9</td>\n",
       "      <td>1</td>\n",
       "      <td>196</td>\n",
       "    </tr>\n",
       "    <tr>\n",
       "      <th>10258</th>\n",
       "      <td>8</td>\n",
       "      <td>1</td>\n",
       "      <td>10258</td>\n",
       "    </tr>\n",
       "    <tr>\n",
       "      <th>10326</th>\n",
       "      <td>1</td>\n",
       "      <td>1</td>\n",
       "      <td>10326</td>\n",
       "    </tr>\n",
       "    <tr>\n",
       "      <th>12427</th>\n",
       "      <td>9</td>\n",
       "      <td>1</td>\n",
       "      <td>12427</td>\n",
       "    </tr>\n",
       "    <tr>\n",
       "      <th>13032</th>\n",
       "      <td>2</td>\n",
       "      <td>1</td>\n",
       "      <td>13032</td>\n",
       "    </tr>\n",
       "  </tbody>\n",
       "</table>\n",
       "</div>"
      ],
      "text/plain": [
       "                    orders_num_buy_the_product  user_id  product_id\n",
       "user_id product_id                                                 \n",
       "1       196                                  9        1         196\n",
       "        10258                                8        1       10258\n",
       "        10326                                1        1       10326\n",
       "        12427                                9        1       12427\n",
       "        13032                                2        1       13032"
      ]
     },
     "execution_count": 58,
     "metadata": {},
     "output_type": "execute_result"
    }
   ],
   "source": [
    "aa.head()"
   ]
  },
  {
   "cell_type": "code",
   "execution_count": 59,
   "metadata": {},
   "outputs": [
    {
     "name": "stderr",
     "output_type": "stream",
     "text": [
      "/usr/local/anaconda3/lib/python3.6/site-packages/IPython/core/interactiveshell.py:2963: FutureWarning: 'user_id' is both an index level and a column label.\n",
      "Defaulting to column, but this will raise an ambiguity error in a future version\n",
      "  exec(code_obj, self.user_global_ns, self.user_ns)\n",
      "/usr/local/anaconda3/lib/python3.6/site-packages/IPython/core/interactiveshell.py:2963: FutureWarning: 'product_id' is both an index level and a column label.\n",
      "Defaulting to column, but this will raise an ambiguity error in a future version\n",
      "  exec(code_obj, self.user_global_ns, self.user_ns)\n"
     ]
    }
   ],
   "source": [
    "#negative examples result\n",
    "data_label0_new=pd.merge(data_label0,aa,on=['user_id','product_id'],how='left')\n",
    "data_label0_new=pd.merge(data_label0_new,gmcs,on='user_id',how='left')\n",
    "data_label0_new['bl']=data_label0_new['orders_num_buy_the_product']/data_label0_new['gmcs']\n",
    "del data_label0_new['gmcs']"
   ]
  },
  {
   "cell_type": "code",
   "execution_count": 60,
   "metadata": {},
   "outputs": [
    {
     "data": {
      "text/html": [
       "<div>\n",
       "<style scoped>\n",
       "    .dataframe tbody tr th:only-of-type {\n",
       "        vertical-align: middle;\n",
       "    }\n",
       "\n",
       "    .dataframe tbody tr th {\n",
       "        vertical-align: top;\n",
       "    }\n",
       "\n",
       "    .dataframe thead th {\n",
       "        text-align: right;\n",
       "    }\n",
       "</style>\n",
       "<table border=\"1\" class=\"dataframe\">\n",
       "  <thead>\n",
       "    <tr style=\"text-align: right;\">\n",
       "      <th></th>\n",
       "      <th>user_id</th>\n",
       "      <th>product_id</th>\n",
       "      <th>orders_num_buy_the_product</th>\n",
       "      <th>bl</th>\n",
       "    </tr>\n",
       "  </thead>\n",
       "  <tbody>\n",
       "    <tr>\n",
       "      <th>0</th>\n",
       "      <td>1.0</td>\n",
       "      <td>26088.0</td>\n",
       "      <td>2.0</td>\n",
       "      <td>0.200000</td>\n",
       "    </tr>\n",
       "    <tr>\n",
       "      <th>1</th>\n",
       "      <td>1.0</td>\n",
       "      <td>25133.0</td>\n",
       "      <td>7.0</td>\n",
       "      <td>0.700000</td>\n",
       "    </tr>\n",
       "    <tr>\n",
       "      <th>2</th>\n",
       "      <td>1.0</td>\n",
       "      <td>10258.0</td>\n",
       "      <td>8.0</td>\n",
       "      <td>0.800000</td>\n",
       "    </tr>\n",
       "    <tr>\n",
       "      <th>3</th>\n",
       "      <td>1.0</td>\n",
       "      <td>4833.0</td>\n",
       "      <td>NaN</td>\n",
       "      <td>NaN</td>\n",
       "    </tr>\n",
       "    <tr>\n",
       "      <th>4</th>\n",
       "      <td>2.0</td>\n",
       "      <td>16521.0</td>\n",
       "      <td>1.0</td>\n",
       "      <td>0.071429</td>\n",
       "    </tr>\n",
       "  </tbody>\n",
       "</table>\n",
       "</div>"
      ],
      "text/plain": [
       "   user_id  product_id  orders_num_buy_the_product        bl\n",
       "0      1.0     26088.0                         2.0  0.200000\n",
       "1      1.0     25133.0                         7.0  0.700000\n",
       "2      1.0     10258.0                         8.0  0.800000\n",
       "3      1.0      4833.0                         NaN       NaN\n",
       "4      2.0     16521.0                         1.0  0.071429"
      ]
     },
     "execution_count": 60,
     "metadata": {},
     "output_type": "execute_result"
    }
   ],
   "source": [
    "data_label0_new.head()"
   ]
  },
  {
   "cell_type": "code",
   "execution_count": 61,
   "metadata": {},
   "outputs": [
    {
     "name": "stderr",
     "output_type": "stream",
     "text": [
      "/usr/local/anaconda3/lib/python3.6/site-packages/IPython/core/interactiveshell.py:2963: FutureWarning: 'user_id' is both an index level and a column label.\n",
      "Defaulting to column, but this will raise an ambiguity error in a future version\n",
      "  exec(code_obj, self.user_global_ns, self.user_ns)\n",
      "/usr/local/anaconda3/lib/python3.6/site-packages/IPython/core/interactiveshell.py:2963: FutureWarning: 'product_id' is both an index level and a column label.\n",
      "Defaulting to column, but this will raise an ambiguity error in a future version\n",
      "  exec(code_obj, self.user_global_ns, self.user_ns)\n"
     ]
    }
   ],
   "source": [
    "#positive examples result\n",
    "data_label1_new=pd.merge(data4[['user_id','product_id']],aa,on=['user_id','product_id'],how='left')\n",
    "data_label1_new=pd.merge(data_label1_new,gmcs,on='user_id',how='left')\n",
    "data_label1_new['bl']=data_label1_new['orders_num_buy_the_product']/data_label1_new['gmcs']\n",
    "del data_label1_new['gmcs']"
   ]
  },
  {
   "cell_type": "code",
   "execution_count": 62,
   "metadata": {},
   "outputs": [
    {
     "data": {
      "text/html": [
       "<div>\n",
       "<style scoped>\n",
       "    .dataframe tbody tr th:only-of-type {\n",
       "        vertical-align: middle;\n",
       "    }\n",
       "\n",
       "    .dataframe tbody tr th {\n",
       "        vertical-align: top;\n",
       "    }\n",
       "\n",
       "    .dataframe thead th {\n",
       "        text-align: right;\n",
       "    }\n",
       "</style>\n",
       "<table border=\"1\" class=\"dataframe\">\n",
       "  <thead>\n",
       "    <tr style=\"text-align: right;\">\n",
       "      <th></th>\n",
       "      <th>user_id</th>\n",
       "      <th>product_id</th>\n",
       "      <th>orders_num_buy_the_product</th>\n",
       "      <th>bl</th>\n",
       "    </tr>\n",
       "  </thead>\n",
       "  <tbody>\n",
       "    <tr>\n",
       "      <th>0</th>\n",
       "      <td>59897</td>\n",
       "      <td>9755</td>\n",
       "      <td>13.0</td>\n",
       "      <td>0.684211</td>\n",
       "    </tr>\n",
       "    <tr>\n",
       "      <th>1</th>\n",
       "      <td>59897</td>\n",
       "      <td>31487</td>\n",
       "      <td>NaN</td>\n",
       "      <td>NaN</td>\n",
       "    </tr>\n",
       "    <tr>\n",
       "      <th>2</th>\n",
       "      <td>59897</td>\n",
       "      <td>37510</td>\n",
       "      <td>1.0</td>\n",
       "      <td>0.052632</td>\n",
       "    </tr>\n",
       "    <tr>\n",
       "      <th>3</th>\n",
       "      <td>59897</td>\n",
       "      <td>14576</td>\n",
       "      <td>12.0</td>\n",
       "      <td>0.631579</td>\n",
       "    </tr>\n",
       "    <tr>\n",
       "      <th>4</th>\n",
       "      <td>59897</td>\n",
       "      <td>22105</td>\n",
       "      <td>NaN</td>\n",
       "      <td>NaN</td>\n",
       "    </tr>\n",
       "  </tbody>\n",
       "</table>\n",
       "</div>"
      ],
      "text/plain": [
       "   user_id  product_id  orders_num_buy_the_product        bl\n",
       "0    59897        9755                        13.0  0.684211\n",
       "1    59897       31487                         NaN       NaN\n",
       "2    59897       37510                         1.0  0.052632\n",
       "3    59897       14576                        12.0  0.631579\n",
       "4    59897       22105                         NaN       NaN"
      ]
     },
     "execution_count": 62,
     "metadata": {},
     "output_type": "execute_result"
    }
   ],
   "source": [
    "data_label1_new.head()"
   ]
  },
  {
   "cell_type": "code",
   "execution_count": 63,
   "metadata": {},
   "outputs": [],
   "source": [
    "# 3.2 order_num_not_buy_the_product is the number of days not buying"
   ]
  },
  {
   "cell_type": "code",
   "execution_count": 64,
   "metadata": {},
   "outputs": [],
   "source": [
    "aa=data3.groupby(['user_id','product_id'])['order_number'].max()\n",
    "aa=data3.groupby(['user_id','product_id'])['order_number'].max()\n",
    "aa=pd.DataFrame(aa)\n",
    "a=list(aa.index)\n",
    "user_id=[x[0] for x in a]\n",
    "product_id=[x[1] for x in a]\n",
    "aa['user_id']=user_id\n",
    "aa['product_id']=product_id\n",
    "aa.columns=['order_number','user_id','product_id']"
   ]
  },
  {
   "cell_type": "code",
   "execution_count": 65,
   "metadata": {},
   "outputs": [
    {
     "name": "stderr",
     "output_type": "stream",
     "text": [
      "/usr/local/anaconda3/lib/python3.6/site-packages/IPython/core/interactiveshell.py:2963: FutureWarning: 'user_id' is both an index level and a column label.\n",
      "Defaulting to column, but this will raise an ambiguity error in a future version\n",
      "  exec(code_obj, self.user_global_ns, self.user_ns)\n",
      "/usr/local/anaconda3/lib/python3.6/site-packages/IPython/core/interactiveshell.py:2963: FutureWarning: 'product_id' is both an index level and a column label.\n",
      "Defaulting to column, but this will raise an ambiguity error in a future version\n",
      "  exec(code_obj, self.user_global_ns, self.user_ns)\n"
     ]
    }
   ],
   "source": [
    "bb=pd.merge(aa,data2[['user_id','product_id','order_number','num']],on=['user_id','product_id','order_number'],how='left')\n",
    "bb['order_num_not_buy_the_product']=bb['num']-bb['order_number']-1"
   ]
  },
  {
   "cell_type": "code",
   "execution_count": 66,
   "metadata": {},
   "outputs": [],
   "source": [
    "del bb['order_number']\n",
    "del bb['num']\n",
    "order_num_not_buy_the_product=bb"
   ]
  },
  {
   "cell_type": "code",
   "execution_count": 67,
   "metadata": {},
   "outputs": [
    {
     "data": {
      "text/html": [
       "<div>\n",
       "<style scoped>\n",
       "    .dataframe tbody tr th:only-of-type {\n",
       "        vertical-align: middle;\n",
       "    }\n",
       "\n",
       "    .dataframe tbody tr th {\n",
       "        vertical-align: top;\n",
       "    }\n",
       "\n",
       "    .dataframe thead th {\n",
       "        text-align: right;\n",
       "    }\n",
       "</style>\n",
       "<table border=\"1\" class=\"dataframe\">\n",
       "  <thead>\n",
       "    <tr style=\"text-align: right;\">\n",
       "      <th></th>\n",
       "      <th>user_id</th>\n",
       "      <th>product_id</th>\n",
       "      <th>order_num_not_buy_the_product</th>\n",
       "    </tr>\n",
       "  </thead>\n",
       "  <tbody>\n",
       "    <tr>\n",
       "      <th>0</th>\n",
       "      <td>1</td>\n",
       "      <td>196</td>\n",
       "      <td>0</td>\n",
       "    </tr>\n",
       "    <tr>\n",
       "      <th>1</th>\n",
       "      <td>1</td>\n",
       "      <td>10258</td>\n",
       "      <td>0</td>\n",
       "    </tr>\n",
       "    <tr>\n",
       "      <th>2</th>\n",
       "      <td>1</td>\n",
       "      <td>10326</td>\n",
       "      <td>4</td>\n",
       "    </tr>\n",
       "    <tr>\n",
       "      <th>3</th>\n",
       "      <td>1</td>\n",
       "      <td>12427</td>\n",
       "      <td>0</td>\n",
       "    </tr>\n",
       "    <tr>\n",
       "      <th>4</th>\n",
       "      <td>1</td>\n",
       "      <td>13032</td>\n",
       "      <td>2</td>\n",
       "    </tr>\n",
       "  </tbody>\n",
       "</table>\n",
       "</div>"
      ],
      "text/plain": [
       "   user_id  product_id  order_num_not_buy_the_product\n",
       "0        1         196                              0\n",
       "1        1       10258                              0\n",
       "2        1       10326                              4\n",
       "3        1       12427                              0\n",
       "4        1       13032                              2"
      ]
     },
     "execution_count": 67,
     "metadata": {},
     "output_type": "execute_result"
    }
   ],
   "source": [
    "order_num_not_buy_the_product.head()"
   ]
  },
  {
   "cell_type": "code",
   "execution_count": 68,
   "metadata": {},
   "outputs": [],
   "source": [
    "#positive examples\n",
    "data_label1_new=pd.merge(data_label1_new,order_num_not_buy_the_product,on=['user_id','product_id'],how='left')"
   ]
  },
  {
   "cell_type": "code",
   "execution_count": 69,
   "metadata": {},
   "outputs": [],
   "source": [
    "#negative examples\n",
    "data_label0_new=pd.merge(data_label0_new,order_num_not_buy_the_product,on=['user_id','product_id'],how='left')"
   ]
  },
  {
   "cell_type": "code",
   "execution_count": 70,
   "metadata": {},
   "outputs": [],
   "source": [
    "# 3.3   first_and_last_buy_the_product is the first/last orders of users\n",
    "first_and_last_buy_the_product=data3.groupby(['user_id','product_id'])['order_number'].agg(['min','max'])\n",
    "first_and_last_buy_the_product=pd.DataFrame(first_and_last_buy_the_product)\n",
    "\n",
    "a=list(first_and_last_buy_the_product.index)\n",
    "user_id=[x[0] for x in a]\n",
    "product_id=[x[1] for x in a]"
   ]
  },
  {
   "cell_type": "code",
   "execution_count": 71,
   "metadata": {},
   "outputs": [],
   "source": [
    "first_and_last_buy_the_product['user_id']=user_id\n",
    "first_and_last_buy_the_product['product_id']=product_id"
   ]
  },
  {
   "cell_type": "code",
   "execution_count": 72,
   "metadata": {},
   "outputs": [
    {
     "name": "stderr",
     "output_type": "stream",
     "text": [
      "/usr/local/anaconda3/lib/python3.6/site-packages/IPython/core/interactiveshell.py:2963: FutureWarning: 'user_id' is both an index level and a column label.\n",
      "Defaulting to column, but this will raise an ambiguity error in a future version\n",
      "  exec(code_obj, self.user_global_ns, self.user_ns)\n"
     ]
    }
   ],
   "source": [
    "first_and_last_buy_the_product=pd.merge(first_and_last_buy_the_product,gmcs,on='user_id',how='left')\n",
    "first_and_last_buy_the_product['min']=first_and_last_buy_the_product['min']/first_and_last_buy_the_product['gmcs']\n",
    "first_and_last_buy_the_product['max']=first_and_last_buy_the_product['max']/first_and_last_buy_the_product['gmcs']\n",
    "first_and_last_buy_the_product.columns=['first_buy_the_product','last_buy_the_product','user_id','product_id','gmcs']\n",
    "del first_and_last_buy_the_product['gmcs']"
   ]
  },
  {
   "cell_type": "code",
   "execution_count": 73,
   "metadata": {},
   "outputs": [
    {
     "data": {
      "text/html": [
       "<div>\n",
       "<style scoped>\n",
       "    .dataframe tbody tr th:only-of-type {\n",
       "        vertical-align: middle;\n",
       "    }\n",
       "\n",
       "    .dataframe tbody tr th {\n",
       "        vertical-align: top;\n",
       "    }\n",
       "\n",
       "    .dataframe thead th {\n",
       "        text-align: right;\n",
       "    }\n",
       "</style>\n",
       "<table border=\"1\" class=\"dataframe\">\n",
       "  <thead>\n",
       "    <tr style=\"text-align: right;\">\n",
       "      <th></th>\n",
       "      <th>first_buy_the_product</th>\n",
       "      <th>last_buy_the_product</th>\n",
       "      <th>user_id</th>\n",
       "      <th>product_id</th>\n",
       "    </tr>\n",
       "  </thead>\n",
       "  <tbody>\n",
       "    <tr>\n",
       "      <th>0</th>\n",
       "      <td>0.1</td>\n",
       "      <td>0.9</td>\n",
       "      <td>1</td>\n",
       "      <td>196</td>\n",
       "    </tr>\n",
       "    <tr>\n",
       "      <th>1</th>\n",
       "      <td>0.2</td>\n",
       "      <td>0.9</td>\n",
       "      <td>1</td>\n",
       "      <td>10258</td>\n",
       "    </tr>\n",
       "    <tr>\n",
       "      <th>2</th>\n",
       "      <td>0.5</td>\n",
       "      <td>0.5</td>\n",
       "      <td>1</td>\n",
       "      <td>10326</td>\n",
       "    </tr>\n",
       "    <tr>\n",
       "      <th>3</th>\n",
       "      <td>0.1</td>\n",
       "      <td>0.9</td>\n",
       "      <td>1</td>\n",
       "      <td>12427</td>\n",
       "    </tr>\n",
       "    <tr>\n",
       "      <th>4</th>\n",
       "      <td>0.2</td>\n",
       "      <td>0.7</td>\n",
       "      <td>1</td>\n",
       "      <td>13032</td>\n",
       "    </tr>\n",
       "  </tbody>\n",
       "</table>\n",
       "</div>"
      ],
      "text/plain": [
       "   first_buy_the_product  last_buy_the_product  user_id  product_id\n",
       "0                    0.1                   0.9        1         196\n",
       "1                    0.2                   0.9        1       10258\n",
       "2                    0.5                   0.5        1       10326\n",
       "3                    0.1                   0.9        1       12427\n",
       "4                    0.2                   0.7        1       13032"
      ]
     },
     "execution_count": 73,
     "metadata": {},
     "output_type": "execute_result"
    }
   ],
   "source": [
    "first_and_last_buy_the_product.head()"
   ]
  },
  {
   "cell_type": "code",
   "execution_count": 74,
   "metadata": {},
   "outputs": [],
   "source": [
    "#positive examples\n",
    "data_label1_new=pd.merge(data_label1_new,first_and_last_buy_the_product,on=['user_id','product_id'],how='left')"
   ]
  },
  {
   "cell_type": "code",
   "execution_count": 75,
   "metadata": {},
   "outputs": [],
   "source": [
    "#negative examples\n",
    "data_label0_new=pd.merge(data_label0_new,first_and_last_buy_the_product,on=['user_id','product_id'],how='left')"
   ]
  },
  {
   "cell_type": "code",
   "execution_count": 76,
   "metadata": {},
   "outputs": [
    {
     "data": {
      "text/html": [
       "<div>\n",
       "<style scoped>\n",
       "    .dataframe tbody tr th:only-of-type {\n",
       "        vertical-align: middle;\n",
       "    }\n",
       "\n",
       "    .dataframe tbody tr th {\n",
       "        vertical-align: top;\n",
       "    }\n",
       "\n",
       "    .dataframe thead th {\n",
       "        text-align: right;\n",
       "    }\n",
       "</style>\n",
       "<table border=\"1\" class=\"dataframe\">\n",
       "  <thead>\n",
       "    <tr style=\"text-align: right;\">\n",
       "      <th></th>\n",
       "      <th>user_id</th>\n",
       "      <th>product_id</th>\n",
       "      <th>orders_num_buy_the_product</th>\n",
       "      <th>bl</th>\n",
       "      <th>order_num_not_buy_the_product</th>\n",
       "      <th>first_buy_the_product</th>\n",
       "      <th>last_buy_the_product</th>\n",
       "    </tr>\n",
       "  </thead>\n",
       "  <tbody>\n",
       "    <tr>\n",
       "      <th>0</th>\n",
       "      <td>59897</td>\n",
       "      <td>9755</td>\n",
       "      <td>13.0</td>\n",
       "      <td>0.684211</td>\n",
       "      <td>0.0</td>\n",
       "      <td>0.052632</td>\n",
       "      <td>0.947368</td>\n",
       "    </tr>\n",
       "    <tr>\n",
       "      <th>1</th>\n",
       "      <td>59897</td>\n",
       "      <td>31487</td>\n",
       "      <td>NaN</td>\n",
       "      <td>NaN</td>\n",
       "      <td>NaN</td>\n",
       "      <td>NaN</td>\n",
       "      <td>NaN</td>\n",
       "    </tr>\n",
       "    <tr>\n",
       "      <th>2</th>\n",
       "      <td>59897</td>\n",
       "      <td>37510</td>\n",
       "      <td>1.0</td>\n",
       "      <td>0.052632</td>\n",
       "      <td>2.0</td>\n",
       "      <td>0.842105</td>\n",
       "      <td>0.842105</td>\n",
       "    </tr>\n",
       "    <tr>\n",
       "      <th>3</th>\n",
       "      <td>59897</td>\n",
       "      <td>14576</td>\n",
       "      <td>12.0</td>\n",
       "      <td>0.631579</td>\n",
       "      <td>1.0</td>\n",
       "      <td>0.105263</td>\n",
       "      <td>0.894737</td>\n",
       "    </tr>\n",
       "    <tr>\n",
       "      <th>4</th>\n",
       "      <td>59897</td>\n",
       "      <td>22105</td>\n",
       "      <td>NaN</td>\n",
       "      <td>NaN</td>\n",
       "      <td>NaN</td>\n",
       "      <td>NaN</td>\n",
       "      <td>NaN</td>\n",
       "    </tr>\n",
       "  </tbody>\n",
       "</table>\n",
       "</div>"
      ],
      "text/plain": [
       "   user_id  product_id  orders_num_buy_the_product        bl  \\\n",
       "0    59897        9755                        13.0  0.684211   \n",
       "1    59897       31487                         NaN       NaN   \n",
       "2    59897       37510                         1.0  0.052632   \n",
       "3    59897       14576                        12.0  0.631579   \n",
       "4    59897       22105                         NaN       NaN   \n",
       "\n",
       "   order_num_not_buy_the_product  first_buy_the_product  last_buy_the_product  \n",
       "0                            0.0               0.052632              0.947368  \n",
       "1                            NaN                    NaN                   NaN  \n",
       "2                            2.0               0.842105              0.842105  \n",
       "3                            1.0               0.105263              0.894737  \n",
       "4                            NaN                    NaN                   NaN  "
      ]
     },
     "execution_count": 76,
     "metadata": {},
     "output_type": "execute_result"
    }
   ],
   "source": [
    "data_label1_new.head()"
   ]
  },
  {
   "cell_type": "code",
   "execution_count": 77,
   "metadata": {},
   "outputs": [
    {
     "data": {
      "text/html": [
       "<div>\n",
       "<style scoped>\n",
       "    .dataframe tbody tr th:only-of-type {\n",
       "        vertical-align: middle;\n",
       "    }\n",
       "\n",
       "    .dataframe tbody tr th {\n",
       "        vertical-align: top;\n",
       "    }\n",
       "\n",
       "    .dataframe thead th {\n",
       "        text-align: right;\n",
       "    }\n",
       "</style>\n",
       "<table border=\"1\" class=\"dataframe\">\n",
       "  <thead>\n",
       "    <tr style=\"text-align: right;\">\n",
       "      <th></th>\n",
       "      <th>user_id</th>\n",
       "      <th>product_id</th>\n",
       "      <th>orders_num_buy_the_product</th>\n",
       "      <th>bl</th>\n",
       "      <th>order_num_not_buy_the_product</th>\n",
       "      <th>first_buy_the_product</th>\n",
       "      <th>last_buy_the_product</th>\n",
       "    </tr>\n",
       "  </thead>\n",
       "  <tbody>\n",
       "    <tr>\n",
       "      <th>0</th>\n",
       "      <td>1.0</td>\n",
       "      <td>26088.0</td>\n",
       "      <td>2.0</td>\n",
       "      <td>0.200000</td>\n",
       "      <td>7.0</td>\n",
       "      <td>0.100000</td>\n",
       "      <td>0.200000</td>\n",
       "    </tr>\n",
       "    <tr>\n",
       "      <th>1</th>\n",
       "      <td>1.0</td>\n",
       "      <td>25133.0</td>\n",
       "      <td>7.0</td>\n",
       "      <td>0.700000</td>\n",
       "      <td>0.0</td>\n",
       "      <td>0.300000</td>\n",
       "      <td>0.900000</td>\n",
       "    </tr>\n",
       "    <tr>\n",
       "      <th>2</th>\n",
       "      <td>1.0</td>\n",
       "      <td>10258.0</td>\n",
       "      <td>8.0</td>\n",
       "      <td>0.800000</td>\n",
       "      <td>0.0</td>\n",
       "      <td>0.200000</td>\n",
       "      <td>0.900000</td>\n",
       "    </tr>\n",
       "    <tr>\n",
       "      <th>3</th>\n",
       "      <td>1.0</td>\n",
       "      <td>4833.0</td>\n",
       "      <td>NaN</td>\n",
       "      <td>NaN</td>\n",
       "      <td>NaN</td>\n",
       "      <td>NaN</td>\n",
       "      <td>NaN</td>\n",
       "    </tr>\n",
       "    <tr>\n",
       "      <th>4</th>\n",
       "      <td>2.0</td>\n",
       "      <td>16521.0</td>\n",
       "      <td>1.0</td>\n",
       "      <td>0.071429</td>\n",
       "      <td>0.0</td>\n",
       "      <td>0.928571</td>\n",
       "      <td>0.928571</td>\n",
       "    </tr>\n",
       "  </tbody>\n",
       "</table>\n",
       "</div>"
      ],
      "text/plain": [
       "   user_id  product_id  orders_num_buy_the_product        bl  \\\n",
       "0      1.0     26088.0                         2.0  0.200000   \n",
       "1      1.0     25133.0                         7.0  0.700000   \n",
       "2      1.0     10258.0                         8.0  0.800000   \n",
       "3      1.0      4833.0                         NaN       NaN   \n",
       "4      2.0     16521.0                         1.0  0.071429   \n",
       "\n",
       "   order_num_not_buy_the_product  first_buy_the_product  last_buy_the_product  \n",
       "0                            7.0               0.100000              0.200000  \n",
       "1                            0.0               0.300000              0.900000  \n",
       "2                            0.0               0.200000              0.900000  \n",
       "3                            NaN                    NaN                   NaN  \n",
       "4                            0.0               0.928571              0.928571  "
      ]
     },
     "execution_count": 77,
     "metadata": {},
     "output_type": "execute_result"
    }
   ],
   "source": [
    "data_label0_new.head()"
   ]
  },
  {
   "cell_type": "code",
   "execution_count": 78,
   "metadata": {},
   "outputs": [],
   "source": [
    "#3.4 days_not_buy_the_product is the number of days not buying product B or the sepcific product"
   ]
  },
  {
   "cell_type": "code",
   "execution_count": 79,
   "metadata": {},
   "outputs": [],
   "source": [
    "aa=data3.groupby(['user_id','product_id'])['order_number'].max()\n",
    "aa=pd.DataFrame(aa)\n",
    "a=list(aa.index)\n",
    "user_id=[x[0] for x in a]\n",
    "product_id=[x[1] for x in a]\n",
    "aa['user_id']=user_id\n",
    "aa['product_id']=product_id\n",
    "aa.columns=['order_number','user_id','product_id']"
   ]
  },
  {
   "cell_type": "code",
   "execution_count": 80,
   "metadata": {},
   "outputs": [
    {
     "name": "stderr",
     "output_type": "stream",
     "text": [
      "/usr/local/anaconda3/lib/python3.6/site-packages/IPython/core/interactiveshell.py:2963: FutureWarning: 'user_id' is both an index level and a column label.\n",
      "Defaulting to column, but this will raise an ambiguity error in a future version\n",
      "  exec(code_obj, self.user_global_ns, self.user_ns)\n"
     ]
    }
   ],
   "source": [
    "bb=pd.merge(aa,orders_prior[['user_id','order_number','days_since_prior_order']],on=['user_id'],how='left')"
   ]
  },
  {
   "cell_type": "code",
   "execution_count": 81,
   "metadata": {},
   "outputs": [],
   "source": [
    "bb=bb[bb.order_number_y>bb.order_number_x]"
   ]
  },
  {
   "cell_type": "code",
   "execution_count": 82,
   "metadata": {},
   "outputs": [],
   "source": [
    "bb=bb.groupby(['order_number_x','user_id','product_id'])['days_since_prior_order'].sum()"
   ]
  },
  {
   "cell_type": "code",
   "execution_count": 83,
   "metadata": {},
   "outputs": [],
   "source": [
    "bb=pd.DataFrame(bb)\n",
    "a=list(bb.index)\n",
    "user_id=[x[1] for x in a]\n",
    "product_id=[x[2] for x in a]\n",
    "bb['user_id']=user_id\n",
    "bb['product_id']=product_id\n",
    "bb.columns=['days_not_buy_the_product','user_id','product_id']"
   ]
  },
  {
   "cell_type": "code",
   "execution_count": 84,
   "metadata": {},
   "outputs": [
    {
     "name": "stderr",
     "output_type": "stream",
     "text": [
      "/usr/local/anaconda3/lib/python3.6/site-packages/IPython/core/interactiveshell.py:2963: FutureWarning: 'user_id' is both an index level and a column label.\n",
      "Defaulting to column, but this will raise an ambiguity error in a future version\n",
      "  exec(code_obj, self.user_global_ns, self.user_ns)\n",
      "/usr/local/anaconda3/lib/python3.6/site-packages/IPython/core/interactiveshell.py:2963: FutureWarning: 'product_id' is both an index level and a column label.\n",
      "Defaulting to column, but this will raise an ambiguity error in a future version\n",
      "  exec(code_obj, self.user_global_ns, self.user_ns)\n"
     ]
    }
   ],
   "source": [
    "#positive examples\n",
    "data_label1_new=pd.merge(data_label1_new,bb,on=['user_id','product_id'],how='left')"
   ]
  },
  {
   "cell_type": "code",
   "execution_count": 85,
   "metadata": {},
   "outputs": [
    {
     "name": "stderr",
     "output_type": "stream",
     "text": [
      "/usr/local/anaconda3/lib/python3.6/site-packages/IPython/core/interactiveshell.py:2963: FutureWarning: 'user_id' is both an index level and a column label.\n",
      "Defaulting to column, but this will raise an ambiguity error in a future version\n",
      "  exec(code_obj, self.user_global_ns, self.user_ns)\n",
      "/usr/local/anaconda3/lib/python3.6/site-packages/IPython/core/interactiveshell.py:2963: FutureWarning: 'product_id' is both an index level and a column label.\n",
      "Defaulting to column, but this will raise an ambiguity error in a future version\n",
      "  exec(code_obj, self.user_global_ns, self.user_ns)\n"
     ]
    }
   ],
   "source": [
    "#negative examples\n",
    "data_label0_new=pd.merge(data_label0_new,bb,on=['user_id','product_id'],how='left')"
   ]
  },
  {
   "cell_type": "code",
   "execution_count": 86,
   "metadata": {},
   "outputs": [
    {
     "data": {
      "text/html": [
       "<div>\n",
       "<style scoped>\n",
       "    .dataframe tbody tr th:only-of-type {\n",
       "        vertical-align: middle;\n",
       "    }\n",
       "\n",
       "    .dataframe tbody tr th {\n",
       "        vertical-align: top;\n",
       "    }\n",
       "\n",
       "    .dataframe thead th {\n",
       "        text-align: right;\n",
       "    }\n",
       "</style>\n",
       "<table border=\"1\" class=\"dataframe\">\n",
       "  <thead>\n",
       "    <tr style=\"text-align: right;\">\n",
       "      <th></th>\n",
       "      <th>user_id</th>\n",
       "      <th>product_id</th>\n",
       "      <th>orders_num_buy_the_product</th>\n",
       "      <th>bl</th>\n",
       "      <th>order_num_not_buy_the_product</th>\n",
       "      <th>first_buy_the_product</th>\n",
       "      <th>last_buy_the_product</th>\n",
       "      <th>days_not_buy_the_product</th>\n",
       "    </tr>\n",
       "  </thead>\n",
       "  <tbody>\n",
       "    <tr>\n",
       "      <th>0</th>\n",
       "      <td>1.0</td>\n",
       "      <td>26088.0</td>\n",
       "      <td>2.0</td>\n",
       "      <td>0.200000</td>\n",
       "      <td>7.0</td>\n",
       "      <td>0.100000</td>\n",
       "      <td>0.200000</td>\n",
       "      <td>161.0</td>\n",
       "    </tr>\n",
       "    <tr>\n",
       "      <th>1</th>\n",
       "      <td>1.0</td>\n",
       "      <td>25133.0</td>\n",
       "      <td>7.0</td>\n",
       "      <td>0.700000</td>\n",
       "      <td>0.0</td>\n",
       "      <td>0.300000</td>\n",
       "      <td>0.900000</td>\n",
       "      <td>30.0</td>\n",
       "    </tr>\n",
       "    <tr>\n",
       "      <th>2</th>\n",
       "      <td>1.0</td>\n",
       "      <td>10258.0</td>\n",
       "      <td>8.0</td>\n",
       "      <td>0.800000</td>\n",
       "      <td>0.0</td>\n",
       "      <td>0.200000</td>\n",
       "      <td>0.900000</td>\n",
       "      <td>30.0</td>\n",
       "    </tr>\n",
       "    <tr>\n",
       "      <th>3</th>\n",
       "      <td>1.0</td>\n",
       "      <td>4833.0</td>\n",
       "      <td>NaN</td>\n",
       "      <td>NaN</td>\n",
       "      <td>NaN</td>\n",
       "      <td>NaN</td>\n",
       "      <td>NaN</td>\n",
       "      <td>NaN</td>\n",
       "    </tr>\n",
       "    <tr>\n",
       "      <th>4</th>\n",
       "      <td>2.0</td>\n",
       "      <td>16521.0</td>\n",
       "      <td>1.0</td>\n",
       "      <td>0.071429</td>\n",
       "      <td>0.0</td>\n",
       "      <td>0.928571</td>\n",
       "      <td>0.928571</td>\n",
       "      <td>13.0</td>\n",
       "    </tr>\n",
       "  </tbody>\n",
       "</table>\n",
       "</div>"
      ],
      "text/plain": [
       "   user_id  product_id  orders_num_buy_the_product        bl  \\\n",
       "0      1.0     26088.0                         2.0  0.200000   \n",
       "1      1.0     25133.0                         7.0  0.700000   \n",
       "2      1.0     10258.0                         8.0  0.800000   \n",
       "3      1.0      4833.0                         NaN       NaN   \n",
       "4      2.0     16521.0                         1.0  0.071429   \n",
       "\n",
       "   order_num_not_buy_the_product  first_buy_the_product  last_buy_the_product  \\\n",
       "0                            7.0               0.100000              0.200000   \n",
       "1                            0.0               0.300000              0.900000   \n",
       "2                            0.0               0.200000              0.900000   \n",
       "3                            NaN                    NaN                   NaN   \n",
       "4                            0.0               0.928571              0.928571   \n",
       "\n",
       "   days_not_buy_the_product  \n",
       "0                     161.0  \n",
       "1                      30.0  \n",
       "2                      30.0  \n",
       "3                       NaN  \n",
       "4                      13.0  "
      ]
     },
     "execution_count": 86,
     "metadata": {},
     "output_type": "execute_result"
    }
   ],
   "source": [
    "data_label0_new.head()"
   ]
  },
  {
   "cell_type": "code",
   "execution_count": null,
   "metadata": {},
   "outputs": [],
   "source": []
  },
  {
   "cell_type": "code",
   "execution_count": 87,
   "metadata": {},
   "outputs": [
    {
     "data": {
      "text/html": [
       "<div>\n",
       "<style scoped>\n",
       "    .dataframe tbody tr th:only-of-type {\n",
       "        vertical-align: middle;\n",
       "    }\n",
       "\n",
       "    .dataframe tbody tr th {\n",
       "        vertical-align: top;\n",
       "    }\n",
       "\n",
       "    .dataframe thead th {\n",
       "        text-align: right;\n",
       "    }\n",
       "</style>\n",
       "<table border=\"1\" class=\"dataframe\">\n",
       "  <thead>\n",
       "    <tr style=\"text-align: right;\">\n",
       "      <th></th>\n",
       "      <th>user_id</th>\n",
       "      <th>product_id</th>\n",
       "      <th>orders_num_buy_the_product</th>\n",
       "      <th>bl</th>\n",
       "      <th>order_num_not_buy_the_product</th>\n",
       "      <th>first_buy_the_product</th>\n",
       "      <th>last_buy_the_product</th>\n",
       "      <th>days_not_buy_the_product</th>\n",
       "    </tr>\n",
       "  </thead>\n",
       "  <tbody>\n",
       "    <tr>\n",
       "      <th>0</th>\n",
       "      <td>59897</td>\n",
       "      <td>9755</td>\n",
       "      <td>13.0</td>\n",
       "      <td>0.684211</td>\n",
       "      <td>0.0</td>\n",
       "      <td>0.052632</td>\n",
       "      <td>0.947368</td>\n",
       "      <td>25.0</td>\n",
       "    </tr>\n",
       "    <tr>\n",
       "      <th>1</th>\n",
       "      <td>59897</td>\n",
       "      <td>31487</td>\n",
       "      <td>NaN</td>\n",
       "      <td>NaN</td>\n",
       "      <td>NaN</td>\n",
       "      <td>NaN</td>\n",
       "      <td>NaN</td>\n",
       "      <td>NaN</td>\n",
       "    </tr>\n",
       "    <tr>\n",
       "      <th>2</th>\n",
       "      <td>59897</td>\n",
       "      <td>37510</td>\n",
       "      <td>1.0</td>\n",
       "      <td>0.052632</td>\n",
       "      <td>2.0</td>\n",
       "      <td>0.842105</td>\n",
       "      <td>0.842105</td>\n",
       "      <td>77.0</td>\n",
       "    </tr>\n",
       "    <tr>\n",
       "      <th>3</th>\n",
       "      <td>59897</td>\n",
       "      <td>14576</td>\n",
       "      <td>12.0</td>\n",
       "      <td>0.631579</td>\n",
       "      <td>1.0</td>\n",
       "      <td>0.105263</td>\n",
       "      <td>0.894737</td>\n",
       "      <td>47.0</td>\n",
       "    </tr>\n",
       "    <tr>\n",
       "      <th>4</th>\n",
       "      <td>59897</td>\n",
       "      <td>22105</td>\n",
       "      <td>NaN</td>\n",
       "      <td>NaN</td>\n",
       "      <td>NaN</td>\n",
       "      <td>NaN</td>\n",
       "      <td>NaN</td>\n",
       "      <td>NaN</td>\n",
       "    </tr>\n",
       "  </tbody>\n",
       "</table>\n",
       "</div>"
      ],
      "text/plain": [
       "   user_id  product_id  orders_num_buy_the_product        bl  \\\n",
       "0    59897        9755                        13.0  0.684211   \n",
       "1    59897       31487                         NaN       NaN   \n",
       "2    59897       37510                         1.0  0.052632   \n",
       "3    59897       14576                        12.0  0.631579   \n",
       "4    59897       22105                         NaN       NaN   \n",
       "\n",
       "   order_num_not_buy_the_product  first_buy_the_product  last_buy_the_product  \\\n",
       "0                            0.0               0.052632              0.947368   \n",
       "1                            NaN                    NaN                   NaN   \n",
       "2                            2.0               0.842105              0.842105   \n",
       "3                            1.0               0.105263              0.894737   \n",
       "4                            NaN                    NaN                   NaN   \n",
       "\n",
       "   days_not_buy_the_product  \n",
       "0                      25.0  \n",
       "1                       NaN  \n",
       "2                      77.0  \n",
       "3                      47.0  \n",
       "4                       NaN  "
      ]
     },
     "execution_count": 87,
     "metadata": {},
     "output_type": "execute_result"
    }
   ],
   "source": [
    "data_label1_new.head()"
   ]
  },
  {
   "cell_type": "code",
   "execution_count": 88,
   "metadata": {},
   "outputs": [],
   "source": [
    "#3.5 the reorder ratio of the product B or the specific"
   ]
  },
  {
   "cell_type": "code",
   "execution_count": 89,
   "metadata": {},
   "outputs": [],
   "source": [
    "aa=data3.groupby(['user_id','product_id'])['order_number'].count()\n",
    "aa=pd.DataFrame(aa)\n",
    "a=list(aa.index)\n",
    "user_id=[x[0] for x in a]\n",
    "product_id=[x[1] for x in a]\n",
    "aa['user_id']=user_id\n",
    "aa['product_id']=product_id\n",
    "aa.columns=['gmcs','user_id','product_id']"
   ]
  },
  {
   "cell_type": "code",
   "execution_count": 90,
   "metadata": {},
   "outputs": [],
   "source": [
    "bb=orders_prior.groupby('user_id')['days_since_prior_order'].sum()\n",
    "bb=pd.DataFrame(bb)\n",
    "bb['user_id']=bb.index\n",
    "bb.columns=['time1','user_id']"
   ]
  },
  {
   "cell_type": "code",
   "execution_count": 91,
   "metadata": {},
   "outputs": [
    {
     "name": "stderr",
     "output_type": "stream",
     "text": [
      "/usr/local/anaconda3/lib/python3.6/site-packages/IPython/core/interactiveshell.py:2963: FutureWarning: 'user_id' is both an index level and a column label.\n",
      "Defaulting to column, but this will raise an ambiguity error in a future version\n",
      "  exec(code_obj, self.user_global_ns, self.user_ns)\n"
     ]
    }
   ],
   "source": [
    "bb=pd.merge(aa,bb,on='user_id',how='left')"
   ]
  },
  {
   "cell_type": "code",
   "execution_count": 92,
   "metadata": {},
   "outputs": [],
   "source": [
    "bb['time_gmpl']=bb['time1']/bb['gmcs']"
   ]
  },
  {
   "cell_type": "code",
   "execution_count": 93,
   "metadata": {},
   "outputs": [],
   "source": [
    "del bb['gmcs']\n",
    "del bb['time1']"
   ]
  },
  {
   "cell_type": "code",
   "execution_count": 94,
   "metadata": {},
   "outputs": [
    {
     "data": {
      "text/plain": [
       "(12422758, 3)"
      ]
     },
     "execution_count": 94,
     "metadata": {},
     "output_type": "execute_result"
    }
   ],
   "source": [
    "bb.shape"
   ]
  },
  {
   "cell_type": "code",
   "execution_count": 95,
   "metadata": {},
   "outputs": [],
   "source": [
    "#positive examples\n",
    "data_label1_new=pd.merge(data_label1_new,bb,on=['user_id','product_id'],how='left')"
   ]
  },
  {
   "cell_type": "code",
   "execution_count": 96,
   "metadata": {},
   "outputs": [],
   "source": [
    "#negative examples\n",
    "data_label0_new=pd.merge(data_label0_new,bb,on=['user_id','product_id'],how='left')"
   ]
  },
  {
   "cell_type": "code",
   "execution_count": 97,
   "metadata": {},
   "outputs": [
    {
     "data": {
      "text/plain": [
       "(3519197, 9)"
      ]
     },
     "execution_count": 97,
     "metadata": {},
     "output_type": "execute_result"
    }
   ],
   "source": [
    "data_label0_new.shape"
   ]
  },
  {
   "cell_type": "code",
   "execution_count": 98,
   "metadata": {},
   "outputs": [
    {
     "data": {
      "text/html": [
       "<div>\n",
       "<style scoped>\n",
       "    .dataframe tbody tr th:only-of-type {\n",
       "        vertical-align: middle;\n",
       "    }\n",
       "\n",
       "    .dataframe tbody tr th {\n",
       "        vertical-align: top;\n",
       "    }\n",
       "\n",
       "    .dataframe thead th {\n",
       "        text-align: right;\n",
       "    }\n",
       "</style>\n",
       "<table border=\"1\" class=\"dataframe\">\n",
       "  <thead>\n",
       "    <tr style=\"text-align: right;\">\n",
       "      <th></th>\n",
       "      <th>gmcs</th>\n",
       "      <th>user_id</th>\n",
       "      <th>gmpl</th>\n",
       "      <th>user_fgl</th>\n",
       "      <th>product_num_everytime</th>\n",
       "      <th>num_product</th>\n",
       "      <th>num_distinct_prodct</th>\n",
       "      <th>last_order_reorderd</th>\n",
       "    </tr>\n",
       "  </thead>\n",
       "  <tbody>\n",
       "    <tr>\n",
       "      <th>0</th>\n",
       "      <td>10</td>\n",
       "      <td>1</td>\n",
       "      <td>17.600000</td>\n",
       "      <td>0.694915</td>\n",
       "      <td>5.900000</td>\n",
       "      <td>59</td>\n",
       "      <td>18</td>\n",
       "      <td>0.666667</td>\n",
       "    </tr>\n",
       "    <tr>\n",
       "      <th>1</th>\n",
       "      <td>14</td>\n",
       "      <td>2</td>\n",
       "      <td>14.142857</td>\n",
       "      <td>0.476923</td>\n",
       "      <td>13.928571</td>\n",
       "      <td>195</td>\n",
       "      <td>102</td>\n",
       "      <td>0.625000</td>\n",
       "    </tr>\n",
       "    <tr>\n",
       "      <th>2</th>\n",
       "      <td>12</td>\n",
       "      <td>3</td>\n",
       "      <td>11.083333</td>\n",
       "      <td>0.625000</td>\n",
       "      <td>7.333333</td>\n",
       "      <td>88</td>\n",
       "      <td>33</td>\n",
       "      <td>1.000000</td>\n",
       "    </tr>\n",
       "    <tr>\n",
       "      <th>3</th>\n",
       "      <td>5</td>\n",
       "      <td>4</td>\n",
       "      <td>11.000000</td>\n",
       "      <td>0.055556</td>\n",
       "      <td>3.600000</td>\n",
       "      <td>18</td>\n",
       "      <td>17</td>\n",
       "      <td>0.000000</td>\n",
       "    </tr>\n",
       "    <tr>\n",
       "      <th>4</th>\n",
       "      <td>4</td>\n",
       "      <td>5</td>\n",
       "      <td>10.000000</td>\n",
       "      <td>0.378378</td>\n",
       "      <td>9.250000</td>\n",
       "      <td>37</td>\n",
       "      <td>23</td>\n",
       "      <td>0.666667</td>\n",
       "    </tr>\n",
       "  </tbody>\n",
       "</table>\n",
       "</div>"
      ],
      "text/plain": [
       "   gmcs  user_id       gmpl  user_fgl  product_num_everytime  num_product  \\\n",
       "0    10        1  17.600000  0.694915               5.900000           59   \n",
       "1    14        2  14.142857  0.476923              13.928571          195   \n",
       "2    12        3  11.083333  0.625000               7.333333           88   \n",
       "3     5        4  11.000000  0.055556               3.600000           18   \n",
       "4     4        5  10.000000  0.378378               9.250000           37   \n",
       "\n",
       "   num_distinct_prodct  last_order_reorderd  \n",
       "0                   18             0.666667  \n",
       "1                  102             0.625000  \n",
       "2                   33             1.000000  \n",
       "3                   17             0.000000  \n",
       "4                   23             0.666667  "
      ]
     },
     "execution_count": 98,
     "metadata": {},
     "output_type": "execute_result"
    }
   ],
   "source": [
    "data_all1.head()"
   ]
  },
  {
   "cell_type": "code",
   "execution_count": 99,
   "metadata": {},
   "outputs": [
    {
     "data": {
      "text/html": [
       "<div>\n",
       "<style scoped>\n",
       "    .dataframe tbody tr th:only-of-type {\n",
       "        vertical-align: middle;\n",
       "    }\n",
       "\n",
       "    .dataframe tbody tr th {\n",
       "        vertical-align: top;\n",
       "    }\n",
       "\n",
       "    .dataframe thead th {\n",
       "        text-align: right;\n",
       "    }\n",
       "</style>\n",
       "<table border=\"1\" class=\"dataframe\">\n",
       "  <thead>\n",
       "    <tr style=\"text-align: right;\">\n",
       "      <th></th>\n",
       "      <th>product_of_order_num</th>\n",
       "      <th>product_id</th>\n",
       "      <th>product_of_user_num</th>\n",
       "      <th>product_of_second_order_num</th>\n",
       "      <th>product_of_second_user_num</th>\n",
       "      <th>product_fgl</th>\n",
       "      <th>product_location</th>\n",
       "    </tr>\n",
       "  </thead>\n",
       "  <tbody>\n",
       "    <tr>\n",
       "      <th>0</th>\n",
       "      <td>1852</td>\n",
       "      <td>1</td>\n",
       "      <td>716</td>\n",
       "      <td>1136.0</td>\n",
       "      <td>276.0</td>\n",
       "      <td>0.613391</td>\n",
       "      <td>5.801836</td>\n",
       "    </tr>\n",
       "    <tr>\n",
       "      <th>1</th>\n",
       "      <td>90</td>\n",
       "      <td>2</td>\n",
       "      <td>78</td>\n",
       "      <td>12.0</td>\n",
       "      <td>8.0</td>\n",
       "      <td>0.133333</td>\n",
       "      <td>9.888889</td>\n",
       "    </tr>\n",
       "    <tr>\n",
       "      <th>2</th>\n",
       "      <td>277</td>\n",
       "      <td>3</td>\n",
       "      <td>74</td>\n",
       "      <td>203.0</td>\n",
       "      <td>36.0</td>\n",
       "      <td>0.732852</td>\n",
       "      <td>6.415162</td>\n",
       "    </tr>\n",
       "    <tr>\n",
       "      <th>3</th>\n",
       "      <td>329</td>\n",
       "      <td>4</td>\n",
       "      <td>182</td>\n",
       "      <td>147.0</td>\n",
       "      <td>64.0</td>\n",
       "      <td>0.446809</td>\n",
       "      <td>9.507599</td>\n",
       "    </tr>\n",
       "    <tr>\n",
       "      <th>4</th>\n",
       "      <td>15</td>\n",
       "      <td>5</td>\n",
       "      <td>6</td>\n",
       "      <td>9.0</td>\n",
       "      <td>4.0</td>\n",
       "      <td>0.600000</td>\n",
       "      <td>6.466667</td>\n",
       "    </tr>\n",
       "  </tbody>\n",
       "</table>\n",
       "</div>"
      ],
      "text/plain": [
       "   product_of_order_num  product_id  product_of_user_num  \\\n",
       "0                  1852           1                  716   \n",
       "1                    90           2                   78   \n",
       "2                   277           3                   74   \n",
       "3                   329           4                  182   \n",
       "4                    15           5                    6   \n",
       "\n",
       "   product_of_second_order_num  product_of_second_user_num  product_fgl  \\\n",
       "0                       1136.0                       276.0     0.613391   \n",
       "1                         12.0                         8.0     0.133333   \n",
       "2                        203.0                        36.0     0.732852   \n",
       "3                        147.0                        64.0     0.446809   \n",
       "4                          9.0                         4.0     0.600000   \n",
       "\n",
       "   product_location  \n",
       "0          5.801836  \n",
       "1          9.888889  \n",
       "2          6.415162  \n",
       "3          9.507599  \n",
       "4          6.466667  "
      ]
     },
     "execution_count": 99,
     "metadata": {},
     "output_type": "execute_result"
    }
   ],
   "source": [
    "data_all2.head()"
   ]
  },
  {
   "cell_type": "code",
   "execution_count": 100,
   "metadata": {},
   "outputs": [],
   "source": [
    "##group data by orders and non-orders for later split test/train\n",
    "data_label0_new=pd.merge(data_label0_new,data_all1,on='user_id',how='left')\n",
    "data_label0_new=pd.merge(data_label0_new,data_all2,on='product_id',how='left')"
   ]
  },
  {
   "cell_type": "code",
   "execution_count": 101,
   "metadata": {},
   "outputs": [],
   "source": [
    "data_label1_new=pd.merge(data_label1_new,data_all1,on='user_id',how='left')\n",
    "data_label1_new=pd.merge(data_label1_new,data_all2,on='product_id',how='left')"
   ]
  },
  {
   "cell_type": "code",
   "execution_count": 102,
   "metadata": {},
   "outputs": [
    {
     "data": {
      "text/plain": [
       "(2139788, 22)"
      ]
     },
     "execution_count": 102,
     "metadata": {},
     "output_type": "execute_result"
    }
   ],
   "source": [
    "data_label1_new.shape"
   ]
  },
  {
   "cell_type": "code",
   "execution_count": 103,
   "metadata": {},
   "outputs": [
    {
     "data": {
      "text/plain": [
       "(3519197, 22)"
      ]
     },
     "execution_count": 103,
     "metadata": {},
     "output_type": "execute_result"
    }
   ],
   "source": [
    "data_label0_new.shape"
   ]
  },
  {
   "cell_type": "code",
   "execution_count": 104,
   "metadata": {},
   "outputs": [],
   "source": [
    "data_label0_new['product_id_user_id']=data_label0_new['product_id'].astype(str)+data_label0_new['user_id'].astype(str)"
   ]
  },
  {
   "cell_type": "code",
   "execution_count": 105,
   "metadata": {},
   "outputs": [],
   "source": [
    "data_label1_new['product_id_user_id']=data_label1_new['product_id'].astype(str)+data_label1_new['user_id'].astype(str)"
   ]
  },
  {
   "cell_type": "code",
   "execution_count": 106,
   "metadata": {},
   "outputs": [],
   "source": [
    "data_label_jj=pd.merge(data_label0_new,data_label1_new,on=['user_id','product_id'],how='inner')"
   ]
  },
  {
   "cell_type": "code",
   "execution_count": 107,
   "metadata": {},
   "outputs": [
    {
     "data": {
      "text/plain": [
       "(248964, 44)"
      ]
     },
     "execution_count": 107,
     "metadata": {},
     "output_type": "execute_result"
    }
   ],
   "source": [
    "data_label_jj.shape"
   ]
  },
  {
   "cell_type": "code",
   "execution_count": 108,
   "metadata": {},
   "outputs": [],
   "source": [
    "product_id_user_id=list(data_label_jj.product_id_user_id_x)"
   ]
  },
  {
   "cell_type": "code",
   "execution_count": 109,
   "metadata": {},
   "outputs": [],
   "source": [
    "data_label0_new=data_label0_new[ -data_label0_new['product_id_user_id'].isin(product_id_user_id)]"
   ]
  },
  {
   "cell_type": "code",
   "execution_count": 110,
   "metadata": {},
   "outputs": [
    {
     "data": {
      "text/plain": [
       "(3270233, 23)"
      ]
     },
     "execution_count": 110,
     "metadata": {},
     "output_type": "execute_result"
    }
   ],
   "source": [
    "data_label0_new.shape"
   ]
  },
  {
   "cell_type": "code",
   "execution_count": 111,
   "metadata": {},
   "outputs": [],
   "source": [
    "del data_label1_new['product_id_user_id']\n",
    "del data_label0_new['product_id_user_id']"
   ]
  },
  {
   "cell_type": "code",
   "execution_count": 112,
   "metadata": {},
   "outputs": [
    {
     "data": {
      "text/plain": [
       "Index(['user_id', 'product_id', 'orders_num_buy_the_product', 'bl',\n",
       "       'order_num_not_buy_the_product', 'first_buy_the_product',\n",
       "       'last_buy_the_product', 'days_not_buy_the_product', 'time_gmpl', 'gmcs',\n",
       "       'gmpl', 'user_fgl', 'product_num_everytime', 'num_product',\n",
       "       'num_distinct_prodct', 'last_order_reorderd', 'product_of_order_num',\n",
       "       'product_of_user_num', 'product_of_second_order_num',\n",
       "       'product_of_second_user_num', 'product_fgl', 'product_location'],\n",
       "      dtype='object')"
      ]
     },
     "execution_count": 112,
     "metadata": {},
     "output_type": "execute_result"
    }
   ],
   "source": [
    "#updating data\n",
    "data_label1_new.columns"
   ]
  },
  {
   "cell_type": "code",
   "execution_count": 113,
   "metadata": {},
   "outputs": [
    {
     "data": {
      "text/plain": [
       "Index(['user_id', 'product_id', 'orders_num_buy_the_product', 'bl',\n",
       "       'order_num_not_buy_the_product', 'first_buy_the_product',\n",
       "       'last_buy_the_product', 'days_not_buy_the_product', 'time_gmpl', 'gmcs',\n",
       "       'gmpl', 'user_fgl', 'product_num_everytime', 'num_product',\n",
       "       'num_distinct_prodct', 'last_order_reorderd', 'product_of_order_num',\n",
       "       'product_of_user_num', 'product_of_second_order_num',\n",
       "       'product_of_second_user_num', 'product_fgl', 'product_location'],\n",
       "      dtype='object')"
      ]
     },
     "execution_count": 113,
     "metadata": {},
     "output_type": "execute_result"
    }
   ],
   "source": [
    "#updating data\n",
    "data_label0_new.columns"
   ]
  },
  {
   "cell_type": "code",
   "execution_count": 114,
   "metadata": {},
   "outputs": [],
   "source": [
    "data_label0_new['label']=0\n",
    "data_label1_new['label']=1"
   ]
  },
  {
   "cell_type": "code",
   "execution_count": 115,
   "metadata": {},
   "outputs": [
    {
     "data": {
      "text/plain": [
       "(2139788, 23)"
      ]
     },
     "execution_count": 115,
     "metadata": {},
     "output_type": "execute_result"
    }
   ],
   "source": [
    "data_label1_new.shape"
   ]
  },
  {
   "cell_type": "code",
   "execution_count": 116,
   "metadata": {},
   "outputs": [],
   "source": [
    "data_label_new=data_label0_new.append(data_label1_new)"
   ]
  },
  {
   "cell_type": "code",
   "execution_count": 117,
   "metadata": {},
   "outputs": [],
   "source": [
    "del data_label_new['user_id']\n",
    "del data_label_new['product_id']"
   ]
  },
  {
   "cell_type": "code",
   "execution_count": 118,
   "metadata": {},
   "outputs": [],
   "source": [
    "data_label_new= data_label_new.copy().replace({np.nan:-100}).astype(float)"
   ]
  },
  {
   "cell_type": "code",
   "execution_count": 119,
   "metadata": {},
   "outputs": [],
   "source": [
    "y=data_label_new.label"
   ]
  },
  {
   "cell_type": "code",
   "execution_count": 120,
   "metadata": {},
   "outputs": [],
   "source": [
    "# Split test and train data based on orders and non-orders and ramdon sampling for test set\n",
    "X_train,X_test,y_train,y_test = train_test_split(data_label_new,y,test_size=1000000,random_state=1)"
   ]
  },
  {
   "cell_type": "code",
   "execution_count": 121,
   "metadata": {},
   "outputs": [],
   "source": [
    "del X_train['label']"
   ]
  },
  {
   "cell_type": "code",
   "execution_count": 122,
   "metadata": {},
   "outputs": [
    {
     "data": {
      "text/plain": [
       "Index(['orders_num_buy_the_product', 'bl', 'order_num_not_buy_the_product',\n",
       "       'first_buy_the_product', 'last_buy_the_product',\n",
       "       'days_not_buy_the_product', 'time_gmpl', 'gmcs', 'gmpl', 'user_fgl',\n",
       "       'product_num_everytime', 'num_product', 'num_distinct_prodct',\n",
       "       'last_order_reorderd', 'product_of_order_num', 'product_of_user_num',\n",
       "       'product_of_second_order_num', 'product_of_second_user_num',\n",
       "       'product_fgl', 'product_location'],\n",
       "      dtype='object')"
      ]
     },
     "execution_count": 122,
     "metadata": {},
     "output_type": "execute_result"
    }
   ],
   "source": [
    "#strat train model XGBoost\n",
    "X_train.columns"
   ]
  },
  {
   "cell_type": "code",
   "execution_count": 123,
   "metadata": {},
   "outputs": [
    {
     "data": {
      "text/html": [
       "<div>\n",
       "<style scoped>\n",
       "    .dataframe tbody tr th:only-of-type {\n",
       "        vertical-align: middle;\n",
       "    }\n",
       "\n",
       "    .dataframe tbody tr th {\n",
       "        vertical-align: top;\n",
       "    }\n",
       "\n",
       "    .dataframe thead th {\n",
       "        text-align: right;\n",
       "    }\n",
       "</style>\n",
       "<table border=\"1\" class=\"dataframe\">\n",
       "  <thead>\n",
       "    <tr style=\"text-align: right;\">\n",
       "      <th></th>\n",
       "      <th>orders_num_buy_the_product</th>\n",
       "      <th>bl</th>\n",
       "      <th>order_num_not_buy_the_product</th>\n",
       "      <th>first_buy_the_product</th>\n",
       "      <th>last_buy_the_product</th>\n",
       "      <th>days_not_buy_the_product</th>\n",
       "      <th>time_gmpl</th>\n",
       "      <th>gmcs</th>\n",
       "      <th>gmpl</th>\n",
       "      <th>user_fgl</th>\n",
       "      <th>...</th>\n",
       "      <th>num_product</th>\n",
       "      <th>num_distinct_prodct</th>\n",
       "      <th>last_order_reorderd</th>\n",
       "      <th>product_of_order_num</th>\n",
       "      <th>product_of_user_num</th>\n",
       "      <th>product_of_second_order_num</th>\n",
       "      <th>product_of_second_user_num</th>\n",
       "      <th>product_fgl</th>\n",
       "      <th>product_location</th>\n",
       "      <th>label</th>\n",
       "    </tr>\n",
       "  </thead>\n",
       "  <tbody>\n",
       "    <tr>\n",
       "      <th>0</th>\n",
       "      <td>2.0</td>\n",
       "      <td>0.200000</td>\n",
       "      <td>7.0</td>\n",
       "      <td>0.100000</td>\n",
       "      <td>0.200000</td>\n",
       "      <td>161.0</td>\n",
       "      <td>88.0</td>\n",
       "      <td>10.0</td>\n",
       "      <td>17.600000</td>\n",
       "      <td>0.694915</td>\n",
       "      <td>...</td>\n",
       "      <td>59.0</td>\n",
       "      <td>18.0</td>\n",
       "      <td>0.666667</td>\n",
       "      <td>2523.0</td>\n",
       "      <td>1163.0</td>\n",
       "      <td>1360.0</td>\n",
       "      <td>471.0</td>\n",
       "      <td>0.539041</td>\n",
       "      <td>6.495838</td>\n",
       "      <td>0.0</td>\n",
       "    </tr>\n",
       "    <tr>\n",
       "      <th>3</th>\n",
       "      <td>-100.0</td>\n",
       "      <td>-100.000000</td>\n",
       "      <td>-100.0</td>\n",
       "      <td>-100.000000</td>\n",
       "      <td>-100.000000</td>\n",
       "      <td>-100.0</td>\n",
       "      <td>-100.0</td>\n",
       "      <td>10.0</td>\n",
       "      <td>17.600000</td>\n",
       "      <td>0.694915</td>\n",
       "      <td>...</td>\n",
       "      <td>59.0</td>\n",
       "      <td>18.0</td>\n",
       "      <td>0.666667</td>\n",
       "      <td>389.0</td>\n",
       "      <td>195.0</td>\n",
       "      <td>194.0</td>\n",
       "      <td>72.0</td>\n",
       "      <td>0.498715</td>\n",
       "      <td>11.089974</td>\n",
       "      <td>0.0</td>\n",
       "    </tr>\n",
       "    <tr>\n",
       "      <th>4</th>\n",
       "      <td>1.0</td>\n",
       "      <td>0.071429</td>\n",
       "      <td>0.0</td>\n",
       "      <td>0.928571</td>\n",
       "      <td>0.928571</td>\n",
       "      <td>13.0</td>\n",
       "      <td>198.0</td>\n",
       "      <td>14.0</td>\n",
       "      <td>14.142857</td>\n",
       "      <td>0.476923</td>\n",
       "      <td>...</td>\n",
       "      <td>195.0</td>\n",
       "      <td>102.0</td>\n",
       "      <td>0.625000</td>\n",
       "      <td>10531.0</td>\n",
       "      <td>5291.0</td>\n",
       "      <td>5240.0</td>\n",
       "      <td>1868.0</td>\n",
       "      <td>0.497579</td>\n",
       "      <td>9.962966</td>\n",
       "      <td>0.0</td>\n",
       "    </tr>\n",
       "    <tr>\n",
       "      <th>5</th>\n",
       "      <td>1.0</td>\n",
       "      <td>0.071429</td>\n",
       "      <td>0.0</td>\n",
       "      <td>0.928571</td>\n",
       "      <td>0.928571</td>\n",
       "      <td>13.0</td>\n",
       "      <td>198.0</td>\n",
       "      <td>14.0</td>\n",
       "      <td>14.142857</td>\n",
       "      <td>0.476923</td>\n",
       "      <td>...</td>\n",
       "      <td>195.0</td>\n",
       "      <td>102.0</td>\n",
       "      <td>0.625000</td>\n",
       "      <td>17332.0</td>\n",
       "      <td>6989.0</td>\n",
       "      <td>10343.0</td>\n",
       "      <td>3004.0</td>\n",
       "      <td>0.596757</td>\n",
       "      <td>8.967228</td>\n",
       "      <td>0.0</td>\n",
       "    </tr>\n",
       "    <tr>\n",
       "      <th>6</th>\n",
       "      <td>1.0</td>\n",
       "      <td>0.071429</td>\n",
       "      <td>0.0</td>\n",
       "      <td>0.928571</td>\n",
       "      <td>0.928571</td>\n",
       "      <td>13.0</td>\n",
       "      <td>198.0</td>\n",
       "      <td>14.0</td>\n",
       "      <td>14.142857</td>\n",
       "      <td>0.476923</td>\n",
       "      <td>...</td>\n",
       "      <td>195.0</td>\n",
       "      <td>102.0</td>\n",
       "      <td>0.625000</td>\n",
       "      <td>75165.0</td>\n",
       "      <td>17964.0</td>\n",
       "      <td>57201.0</td>\n",
       "      <td>10647.0</td>\n",
       "      <td>0.761006</td>\n",
       "      <td>7.512632</td>\n",
       "      <td>0.0</td>\n",
       "    </tr>\n",
       "  </tbody>\n",
       "</table>\n",
       "<p>5 rows × 21 columns</p>\n",
       "</div>"
      ],
      "text/plain": [
       "   orders_num_buy_the_product          bl  order_num_not_buy_the_product  \\\n",
       "0                         2.0    0.200000                            7.0   \n",
       "3                      -100.0 -100.000000                         -100.0   \n",
       "4                         1.0    0.071429                            0.0   \n",
       "5                         1.0    0.071429                            0.0   \n",
       "6                         1.0    0.071429                            0.0   \n",
       "\n",
       "   first_buy_the_product  last_buy_the_product  days_not_buy_the_product  \\\n",
       "0               0.100000              0.200000                     161.0   \n",
       "3            -100.000000           -100.000000                    -100.0   \n",
       "4               0.928571              0.928571                      13.0   \n",
       "5               0.928571              0.928571                      13.0   \n",
       "6               0.928571              0.928571                      13.0   \n",
       "\n",
       "   time_gmpl  gmcs       gmpl  user_fgl  ...    num_product  \\\n",
       "0       88.0  10.0  17.600000  0.694915  ...           59.0   \n",
       "3     -100.0  10.0  17.600000  0.694915  ...           59.0   \n",
       "4      198.0  14.0  14.142857  0.476923  ...          195.0   \n",
       "5      198.0  14.0  14.142857  0.476923  ...          195.0   \n",
       "6      198.0  14.0  14.142857  0.476923  ...          195.0   \n",
       "\n",
       "   num_distinct_prodct  last_order_reorderd  product_of_order_num  \\\n",
       "0                 18.0             0.666667                2523.0   \n",
       "3                 18.0             0.666667                 389.0   \n",
       "4                102.0             0.625000               10531.0   \n",
       "5                102.0             0.625000               17332.0   \n",
       "6                102.0             0.625000               75165.0   \n",
       "\n",
       "   product_of_user_num  product_of_second_order_num  \\\n",
       "0               1163.0                       1360.0   \n",
       "3                195.0                        194.0   \n",
       "4               5291.0                       5240.0   \n",
       "5               6989.0                      10343.0   \n",
       "6              17964.0                      57201.0   \n",
       "\n",
       "   product_of_second_user_num  product_fgl  product_location  label  \n",
       "0                       471.0     0.539041          6.495838    0.0  \n",
       "3                        72.0     0.498715         11.089974    0.0  \n",
       "4                      1868.0     0.497579          9.962966    0.0  \n",
       "5                      3004.0     0.596757          8.967228    0.0  \n",
       "6                     10647.0     0.761006          7.512632    0.0  \n",
       "\n",
       "[5 rows x 21 columns]"
      ]
     },
     "execution_count": 123,
     "metadata": {},
     "output_type": "execute_result"
    }
   ],
   "source": [
    "data_label_new.head()"
   ]
  },
  {
   "cell_type": "code",
   "execution_count": 124,
   "metadata": {},
   "outputs": [
    {
     "name": "stdout",
     "output_type": "stream",
     "text": [
      "[14:53:10] Tree method is automatically selected to be 'approx' for faster speed. to use old behavior(exact greedy algorithm on single machine), set tree_method to 'exact'\n"
     ]
    },
    {
     "data": {
      "text/plain": [
       "XGBClassifier(base_score=0.5, booster='gbtree', colsample_bylevel=1,\n",
       "       colsample_bytree=0.9, gamma=0, learning_rate=0.1, max_delta_step=0,\n",
       "       max_depth=10, min_child_weight=1, missing=None, n_estimators=2000,\n",
       "       n_jobs=110, nthread=None, objective='binary:logistic',\n",
       "       random_state=0, reg_alpha=0, reg_lambda=1, scale_pos_weight=1,\n",
       "       seed=None, silent=True, subsample=1)"
      ]
     },
     "execution_count": 124,
     "metadata": {},
     "output_type": "execute_result"
    }
   ],
   "source": [
    "xgb = xgboost.XGBClassifier(n_jobs=110,n_estimators=2000,max_depth=10,colsample_bytree=0.9)\n",
    "xgb.fit(X_train,y_train)"
   ]
  },
  {
   "cell_type": "code",
   "execution_count": 125,
   "metadata": {},
   "outputs": [],
   "source": [
    "del X_test['label']\n",
    "y_pred = xgb.predict(X_test)"
   ]
  },
  {
   "cell_type": "code",
   "execution_count": 126,
   "metadata": {},
   "outputs": [
    {
     "data": {
      "text/plain": [
       "1000000"
      ]
     },
     "execution_count": 126,
     "metadata": {},
     "output_type": "execute_result"
    }
   ],
   "source": [
    "len(y_pred)"
   ]
  },
  {
   "cell_type": "code",
   "execution_count": 128,
   "metadata": {},
   "outputs": [
    {
     "name": "stdout",
     "output_type": "stream",
     "text": [
      "f1: 0.769495\n",
      "precision: 0.797370\n",
      "recall: 0.743503\n",
      "accuracy: 0.823846\n"
     ]
    }
   ],
   "source": [
    "#accuracy for XGB\n",
    "print(\"accuracy: %f\" %accuracy_score(y_test[0:1000000],y_pred))"
   ]
  },
  {
   "cell_type": "code",
   "execution_count": 129,
   "metadata": {
    "scrolled": true
   },
   "outputs": [
    {
     "data": {
      "image/png": "[encoded data removed]",
      "text/plain": [
       "<Figure size 864x1296 with 1 Axes>"
      ]
     },
     "metadata": {},
     "output_type": "display_data"
    }
   ],
   "source": [
    "#feature importance for XGBoost\n",
    "import matplotlib.pyplot as plt\n",
    "feature_importance_table = pd.DataFrame(np.array(list(X_train.columns)))\n",
    "feature_importance_table = pd.concat([feature_importance_table,pd.DataFrame(xgb.feature_importances_)],axis=1)\n",
    "feature_importance_table.columns = ['feature_name','weight']\n",
    "feature_importance_table['weight'].idxmax()\n",
    "fig,ax = plt.subplots(figsize=(12,18))\n",
    "xgboost.plot_importance(xgb,ax=ax)\n",
    "plt.show()"
   ]
  },
  {
   "cell_type": "code",
   "execution_count": 106,
   "metadata": {},
   "outputs": [],
   "source": [
    "##strat train model Logistic Regression"
   ]
  },
  {
   "cell_type": "code",
   "execution_count": 108,
   "metadata": {},
   "outputs": [],
   "source": [
    "from  sklearn import linear_model"
   ]
  },
  {
   "cell_type": "code",
   "execution_count": 109,
   "metadata": {},
   "outputs": [],
   "source": [
    "logit=linear_model.LogisticRegression()"
   ]
  },
  {
   "cell_type": "code",
   "execution_count": 110,
   "metadata": {},
   "outputs": [
    {
     "name": "stderr",
     "output_type": "stream",
     "text": [
      "/usr/local/anaconda3/lib/python3.6/site-packages/sklearn/linear_model/logistic.py:433: FutureWarning: Default solver will be changed to 'lbfgs' in 0.22. Specify a solver to silence this warning.\n",
      "  FutureWarning)\n"
     ]
    },
    {
     "data": {
      "text/plain": [
       "LogisticRegression(C=1.0, class_weight=None, dual=False, fit_intercept=True,\n",
       "          intercept_scaling=1, max_iter=100, multi_class='warn',\n",
       "          n_jobs=None, penalty='l2', random_state=None, solver='warn',\n",
       "          tol=0.0001, verbose=0, warm_start=False)"
      ]
     },
     "execution_count": 110,
     "metadata": {},
     "output_type": "execute_result"
    }
   ],
   "source": [
    "logit.fit(X_train,y_train)"
   ]
  },
  {
   "cell_type": "code",
   "execution_count": 112,
   "metadata": {},
   "outputs": [],
   "source": [
    "del X_test['label']\n",
    "y_pred = logit.predict(X_test)"
   ]
  },
  {
   "cell_type": "code",
   "execution_count": 113,
   "metadata": {},
   "outputs": [
    {
     "name": "stdout",
     "output_type": "stream",
     "text": [
      "f1: 0.671423\n",
      "precision: 0.698678\n",
      "recall: 0.646215\n",
      "accuracy: 0.749889\n"
     ]
    }
   ],
   "source": [
    "#accuracy for LR\n",
    "print(\"accuracy: %f\" %accuracy_score(y_test[0:1000000],y_pred))"
   ]
  }
 ],
 "metadata": {
  "kernelspec": {
   "display_name": "Python 3",
   "language": "python",
   "name": "python3"
  },
  "language_info": {
   "codemirror_mode": {
    "name": "ipython",
    "version": 3
   },
   "file_extension": ".py",
   "mimetype": "text/x-python",
   "name": "python",
   "nbconvert_exporter": "python",
   "pygments_lexer": "ipython3",
   "version": "3.6.5"
  }
 },
 "nbformat": 4,
 "nbformat_minor": 2
}
